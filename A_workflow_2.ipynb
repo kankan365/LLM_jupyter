{
 "cells": [
  {
   "cell_type": "code",
   "execution_count": 11,
   "id": "a55f0e3b-0ed1-4fe9-8008-99a90ee8ffb9",
   "metadata": {},
   "outputs": [],
   "source": [
    "import sys\n",
    "sys.path.append('./python_modules')\n",
    "\n",
    "import importlib"
   ]
  },
  {
   "cell_type": "code",
   "execution_count": 12,
   "id": "269b5ce9-49ce-4030-830e-f97edc0580ca",
   "metadata": {},
   "outputs": [
    {
     "name": "stdout",
     "output_type": "stream",
     "text": [
      "engin:azure-gpt-4o\n"
     ]
    }
   ],
   "source": [
    "import init\n",
    "\n",
    "print(f\"engin:{init.engin}\")"
   ]
  },
  {
   "cell_type": "code",
   "execution_count": 3,
   "id": "91db8f44-b23f-44ae-b5c2-fbc4162836f3",
   "metadata": {},
   "outputs": [
    {
     "data": {
      "text/plain": [
       "'Hello, Good morning!'"
      ]
     },
     "execution_count": 3,
     "metadata": {},
     "output_type": "execute_result"
    }
   ],
   "source": [
    "from plot_module import greet\n",
    "greet('Good morning')\n",
    " "
   ]
  },
  {
   "cell_type": "code",
   "execution_count": 4,
   "id": "d9ff0371-f2a8-487a-b97a-b5ef672289d4",
   "metadata": {},
   "outputs": [],
   "source": [
    "from llama_index.legacy.multi_modal_llms.azure_openai import AzureOpenAIMultiModal\n",
    "from llama_index.core import SimpleDirectoryReader, StorageContext"
   ]
  },
  {
   "cell_type": "code",
   "execution_count": null,
   "id": "d2d94fdb-d866-46f6-950a-dd878fd044e4",
   "metadata": {},
   "outputs": [],
   "source": []
  },
  {
   "cell_type": "code",
   "execution_count": 5,
   "id": "db18fd20-61e8-49ad-a907-2e1a068c0e79",
   "metadata": {},
   "outputs": [],
   "source": [
    "file_path=\"./sql_files\""
   ]
  },
  {
   "cell_type": "code",
   "execution_count": 6,
   "id": "39f74019-7994-451a-a63f-d272e954c90a",
   "metadata": {},
   "outputs": [
    {
     "name": "stdout",
     "output_type": "stream",
     "text": [
      "2\n"
     ]
    }
   ],
   "source": [
    "documents = SimpleDirectoryReader(file_path).load_data()\n",
    "print(len(documents))\n",
    "from llama_index.core import Document, VectorStoreIndex\n",
    "\n",
    "index = VectorStoreIndex.from_documents(documents)"
   ]
  },
  {
   "cell_type": "code",
   "execution_count": 7,
   "id": "183cc1a5-11ff-476d-93ed-c99c5846b6b1",
   "metadata": {},
   "outputs": [],
   "source": [
    "import openai\n",
    "\n",
    "client = openai.OpenAI(\n",
    "    api_key=init.api_key,#api_key, # Format should be 'sk-<your_key>'\n",
    "    base_url=init.azure_endpoint #\"http://litellm.toxpipe.niehs.nih.gov\" # LiteLLM Proxy is OpenAI compatible, Read More: https://docs.litellm.ai/docs/proxy/user_keys\n",
    ")\n",
    "\n",
    "response = client.chat.completions.create(\n",
    "    model=init.engin,#\"azure-gpt-4o\", # model to send to the proxy\n",
    "    messages = [\n",
    "        {\n",
    "            \"role\": \"user\",\n",
    "            #\"content\": \"this is a test request, write a short poem\"\n",
    "             \"content\": f\"Summarize the following text:\\n {documents}\",\n",
    "        }\n",
    "    ]\n",
    ")\n",
    "\n",
    "#print(response.choices[0].message.content)\n",
    "#print(response)"
   ]
  },
  {
   "cell_type": "code",
   "execution_count": 8,
   "id": "1d03c300-4460-41d8-8695-0133fbea7b5f",
   "metadata": {},
   "outputs": [
    {
     "name": "stdout",
     "output_type": "stream",
     "text": [
      "The document contains SQL statements for creating various tables in a database. These tables include:\n",
      "\n",
      "1. `devices_data`: Stores information about devices with fields like ID, source ID, well details, device details, and other properties.\n",
      "2. `endpoints`: Contains endpoint details including ID, name, and description.\n",
      "3. `endpoint_data`: Connects endpoints to devices and stores endpoint values, referencing the `endpoints` and `devices_data` tables.\n",
      "4. `sources`: Stores source details with fields for ID, name, and code.\n",
      "5. `chemicals`: Includes chemical information such as chemical ID, code, DTXSID, CASRN, and preferred name.\n",
      "6. `well_types`: Details about well types, including ID, type, and description.\n",
      "7. `plates`: Contains details about plates, associating them with sources and including fields like plate ID, name, screening time, and stage.\n",
      "8. `bins`: Stores bin ranges identified by bin ID.\n",
      "9. `phases`: Represents different phases with fields for ID, code, stage, and associated source.\n",
      "10. `phase_bins`: Links phases and bins, containing their IDs.\n",
      "11. `devtox_data`: Includes data related to developmental toxicity, connecting to plates, chemicals, and wells, with fields like concentration, vehicle, and validity.\n",
      "12. `behavior_data`: Captures behavior-related metrics, linking to developmental toxicity data, phases, and bins, including fields like distance moved and time.\n",
      "\n",
      "Each table has appropriate primary keys and foreign key constraints to ensure data integrity and relationships between the tables.\n"
     ]
    }
   ],
   "source": [
    "print(response.choices[0].message.content)"
   ]
  },
  {
   "cell_type": "markdown",
   "id": "5ae6e82b-3535-415c-b999-6de9792a9bfd",
   "metadata": {},
   "source": [
    "## Set method for the chatbot"
   ]
  },
  {
   "cell_type": "code",
   "execution_count": 9,
   "id": "ebc07b5c-9d74-4e53-aa06-f233c134be5b",
   "metadata": {},
   "outputs": [],
   "source": [
    "def describe (question):\n",
    "    response = client.chat.completions.create(\n",
    "    model=\"azure-gpt-4o\", # model to send to the proxy\n",
    "    messages = [\n",
    "        {\n",
    "            \"role\": \"user\",\n",
    "            #\"content\": \"this is a test request, write a short poem\"\n",
    "             \"content\": f\"{question}:\\n {documents}\",\n",
    "             #\"content\": f\"Summarize the following text:\\n {documents}\",\n",
    "            \n",
    "        }\n",
    "    ]\n",
    ")\n",
    "    return response.choices[0].message.content\n",
    " "
   ]
  },
  {
   "cell_type": "code",
   "execution_count": 10,
   "id": "fd178394-31c7-4b02-bf6c-19bca98621aa",
   "metadata": {},
   "outputs": [
    {
     "name": "stdout",
     "output_type": "stream",
     "text": [
      "Running on local URL:  http://127.0.0.1:7864\n",
      "Running on public URL: https://a8664e93af7fec06fd.gradio.live\n",
      "\n",
      "This share link expires in 72 hours. For free permanent hosting and GPU upgrades, run `gradio deploy` from Terminal to deploy to Spaces (https://huggingface.co/spaces)\n"
     ]
    },
    {
     "data": {
      "text/html": [
       "<div><iframe src=\"https://a8664e93af7fec06fd.gradio.live\" width=\"100%\" height=\"500\" allow=\"autoplay; camera; microphone; clipboard-read; clipboard-write;\" frameborder=\"0\" allowfullscreen></iframe></div>"
      ],
      "text/plain": [
       "<IPython.core.display.HTML object>"
      ]
     },
     "metadata": {},
     "output_type": "display_data"
    }
   ],
   "source": [
    "import gradio as gr \n",
    "def greet(name): return \"Hello \" + name + \"!\" \n",
    "def prediction (question): \n",
    "    answer = describe (question)\n",
    "    return answer\n",
    "\n",
    "#demo = gr.Interface(fn=prediction, inputs=\"textbox\", outputs=\"textbox\") \n",
    "demo = gr.Interface( fn=prediction,     \n",
    "    inputs=gr.Textbox(lines=5, placeholder=\"Type your question here...\"),  # Input textbox with 5 lines\n",
    "    outputs=gr.Textbox(label=\"Answer\", lines=4)  # Output textbox with 4 lines\n",
    ")\n",
    "\n",
    "\n",
    "if __name__ == \"__main__\": \n",
    "    demo.launch(share=True)"
   ]
  },
  {
   "cell_type": "code",
   "execution_count": null,
   "id": "23b58677-9156-4e2e-b770-0ae0db5709b6",
   "metadata": {},
   "outputs": [],
   "source": []
  },
  {
   "cell_type": "code",
   "execution_count": 14,
   "id": "76de18bd-39c0-464b-92e1-5de648710efe",
   "metadata": {},
   "outputs": [],
   "source": [
    "from plot_module import greet\n",
    "from plot_module import parse_sqls\n",
    "from plot_module import exec_query\n",
    "from plot_module import exec_query_test\n"
   ]
  },
  {
   "cell_type": "code",
   "execution_count": 15,
   "id": "708bf79a-d1e8-46e9-b554-c73660f13e6b",
   "metadata": {},
   "outputs": [],
   "source": [
    "answer_old=\"\"\"\n",
    "To determine the data distribution of `behavior_data` with `distance_moved` greater than 1400, we can create a SQL query to extract and analyze the relevant rows from the `behavior_data` table. Here's a step-by-step approach to achieve this:\n",
    "\n",
    "1. **Select the Desired Data**:\n",
    "    - We need to select rows from the `behavior_data` table where `distance_moved` is greater than 1400.\n",
    "    - We can also join with other relevant tables if needed to gather more context or filter by additional criteria.\n",
    "\n",
    "2. **Analyze the Distribution**:\n",
    "    - Use statistical measures (mean, median, standard deviation) or visualization tools (histogram) to understand the distribution of the `distance_moved` values.\n",
    "\n",
    "Here is an example SQL query to retrieve the necessary data:\n",
    "\n",
    "```sql\n",
    "SELECT distance_moved\n",
    "FROM behavior_data\n",
    "WHERE distance_moved > 1400;\n",
    "```\n",
    "\n",
    "If you want to join other tables to filter by additional criteria, you can modify the query accordingly:\n",
    "\n",
    "```sql\n",
    "SELECT bd.distance_moved, dt.chemical_id, dt.well_position \n",
    "FROM behavior_data bd\n",
    "JOIN devtox_data dt ON bd.devtox_data_id = dt.devtox_data_id\n",
    "WHERE bd.distance_moved > 1400;\n",
    "```\n",
    "\n",
    "To fully analyze the distribution, you would then typically use a programming language like Python with libraries such as Pandas or SQL for data processing and visualization. Below is an example in Python assuming you have the results in a DataFrame:\n",
    "\n",
    "```python\n",
    "import pandas as pd\n",
    "import matplotlib.pyplot as plt\n",
    "\n",
    "# Assuming df is the DataFrame containing your SQL query result\n",
    "df = pd.read_sql(query, connection)\n",
    "\n",
    "# Describe the statistics\n",
    "print(df['distance_moved'].describe())\n",
    "\n",
    "# Plot the histogram\n",
    "plt.hist(df['distance_moved'], bins=30)\n",
    "plt.title('Distribution of Distance Moved > 1400')\n",
    "plt.xlabel('Distance Moved')\n",
    "plt.ylabel('Frequency')\n",
    "plt.show()\n",
    "```\n",
    "\n",
    "If you don't have direct access to the data and just need to understand the distribution conceptually, this outline should give you a good starting point.\n",
    "\"\"\""
   ]
  },
  {
   "cell_type": "code",
   "execution_count": 32,
   "id": "ca744b8d-9630-4033-8288-92aefdb92af1",
   "metadata": {},
   "outputs": [],
   "source": [
    "answer = \"\"\"To determine the distribution of `behavior_data` with `distance_moved` greater than 1400, let's examine the table definition and some example SQL queries that could be used to calculate this distribution. \n",
    "\n",
    "### Table Structure\n",
    "The `behavior_data` table is defined with the following columns:\n",
    "- `devtox_data_id` (INTEGER)\n",
    "- `phase_id` (INTEGER)\n",
    "- `bin_id` (INTEGER)\n",
    "- `distance_moved` (REAL)\n",
    "- `time_end` (INTEGER)\n",
    "\n",
    "This table has foreign key relationships with the `devtox_data`, `phases`, and `bins` tables. The primary key is a composite of `devtox_data_id`, `phase_id`, and `bin_id`.\n",
    "\n",
    "### Assumptions\n",
    "I'm assuming you want to understand how many rows have `distance_moved` greater than 1400 and potentially other statistics like mean, median, etc., of `distance_moved` for the relevant rows.\n",
    "\n",
    "### Query to Retrieve Distribution\n",
    "\n",
    "Here's a query to retrieve the count of rows in `behavior_data` where `distance_moved` is greater than 1400:\n",
    "\n",
    "```sql\n",
    "SELECT COUNT(*) as count\n",
    "FROM behavior_data \n",
    "WHERE distance_moved > 1400;\n",
    "```\n",
    "\n",
    "To get detailed statistics, such as the average, minimum, and maximum values, you could use:\n",
    "\n",
    "```sql\n",
    "SELECT \n",
    "    COUNT(*) AS count,\n",
    "    AVG(distance_moved) AS avg_distance,\n",
    "    MIN(distance_moved) AS min_distance,\n",
    "    MAX(distance_moved) AS max_distance\n",
    "FROM behavior_data\n",
    "WHERE distance_moved > 1400;\n",
    "```\n",
    "\n",
    "If you need a more comprehensive distribution (e.g., a histogram), you can group the distances into bins. Here's an example query that groups the `distance_moved` values into ranges of 100:\n",
    "\n",
    "```sql\n",
    "SELECT \n",
    "    FLOOR(distance_moved / 100) * 100 AS distance_bin,\n",
    "    COUNT(*) AS count\n",
    "FROM behavior_data\n",
    "WHERE distance_moved > 1400\n",
    "GROUP BY distance_bin\n",
    "ORDER BY distance_bin;\n",
    "```\n",
    "\n",
    "This query will group the `distance_moved` values into bins of 100 units and provide the count of rows in each bin, starting from 1400.\n",
    "\n",
    "### Summary\n",
    "To summarize, the primary task involves querying the `behavior_data` table for rows where `distance_moved` exceeds 1400 and then applying aggregate functions or grouping to understand the data distribution. The examples provided demonstrate how you can achieve these tasks using SQL.\n",
    "\"\"\""
   ]
  },
  {
   "cell_type": "markdown",
   "id": "c6a908dd-7779-4000-80e3-8efeb536bc47",
   "metadata": {},
   "source": [
    "## load database data"
   ]
  },
  {
   "cell_type": "code",
   "execution_count": 33,
   "id": "a2134d73-549f-4ac0-9758-4cdfb2b796b0",
   "metadata": {},
   "outputs": [
    {
     "name": "stdout",
     "output_type": "stream",
     "text": [
      "Column Names: RMKeyView(['source_name', 'source_code'])\n",
      "Data: [('biobide', 'a'), ('nrc', 'b'), ('osu', 'c'), ('zeclinics', 'd')]\n",
      "  source_name source_code\n",
      "0     biobide           a\n",
      "1         nrc           b\n",
      "2         osu           c\n",
      "3   zeclinics           d\n"
     ]
    }
   ],
   "source": [
    "from sqlalchemy import text\n",
    "from langchain_community.utilities import SQLDatabase\n",
    "import pandas as pd\n",
    "\n",
    "# Initialize the database\n",
    "db_url = './data/vanna_zebrafish/OECD_ZF_LDTT.sqlite'\n",
    "db = SQLDatabase.from_uri(f'sqlite:///{db_url}')\n",
    "\n",
    "# Use the underlying SQLAlchemy engine\n",
    "query = \"SELECT source_name, source_code FROM sources;\"\n",
    "with db._engine.connect() as connection:  # Access the private _engine attribute\n",
    "    result_proxy = connection.execute(text(query))  # Wrap query with `text`\n",
    "    column_names = result_proxy.keys()  # Get column names\n",
    "    data = result_proxy.fetchall()  # Get all rows\n",
    "\n",
    "# Print results\n",
    "print(\"Column Names:\", column_names)\n",
    "print(\"Data:\", data)\n",
    "\n",
    "# Convert to a Pandas DataFrame\n",
    "df = pd.DataFrame(data, columns=column_names)\n",
    "print(df)\n"
   ]
  },
  {
   "cell_type": "code",
   "execution_count": 34,
   "id": "49cc147f-87a6-410d-b1ef-d8bb78e07b8f",
   "metadata": {},
   "outputs": [
    {
     "name": "stdout",
     "output_type": "stream",
     "text": [
      "xxxQuery 1:\n",
      "SELECT COUNT(*) as count\n",
      "FROM behavior_data \n",
      "WHERE distance_moved > 1400;\n",
      "\n",
      "xxxQuery 2:\n",
      "SELECT \n",
      "    COUNT(*) AS count,\n",
      "    AVG(distance_moved) AS avg_distance,\n",
      "    MIN(distance_moved) AS min_distance,\n",
      "    MAX(distance_moved) AS max_distance\n",
      "FROM behavior_data\n",
      "WHERE distance_moved > 1400;\n",
      "\n",
      "xxxQuery 3:\n",
      "SELECT \n",
      "    FLOOR(distance_moved / 100) * 100 AS distance_bin,\n",
      "    COUNT(*) AS count\n",
      "FROM behavior_data\n",
      "WHERE distance_moved > 1400\n",
      "GROUP BY distance_bin\n",
      "ORDER BY distance_bin;\n",
      "\n"
     ]
    }
   ],
   "source": [
    "llm_output=answer\n",
    "#print(parse_sqls(llm_output))#llm_output\n",
    "parsed_queries = parse_sqls(llm_output)\n",
    "#Output the parsed queries\n",
    "#for i, query in enumerate(parsed_queries, start=1): \n",
    "    #print(f\"Query {i}:\\n{query}\\n\")\n",
    "#exec_query_test(parsed_queries,db)"
   ]
  },
  {
   "cell_type": "code",
   "execution_count": 35,
   "id": "7714f9d1-3fca-4f80-beb5-cf473d641d59",
   "metadata": {},
   "outputs": [
    {
     "name": "stdout",
     "output_type": "stream",
     "text": [
      "To determine the distribution of `behavior_data` with `distance_moved` greater than 1400, let's examine the table definition and some example SQL queries that could be used to calculate this distribution. \n",
      "\n",
      "### Table Structure\n",
      "The `behavior_data` table is defined with the following columns:\n",
      "- `devtox_data_id` (INTEGER)\n",
      "- `phase_id` (INTEGER)\n",
      "- `bin_id` (INTEGER)\n",
      "- `distance_moved` (REAL)\n",
      "- `time_end` (INTEGER)\n",
      "\n",
      "This table has foreign key relationships with the `devtox_data`, `phases`, and `bins` tables. The primary key is a composite of `devtox_data_id`, `phase_id`, and `bin_id`.\n",
      "\n",
      "### Assumptions\n",
      "I'm assuming you want to understand how many rows have `distance_moved` greater than 1400 and potentially other statistics like mean, median, etc., of `distance_moved` for the relevant rows.\n",
      "\n",
      "### Query to Retrieve Distribution\n",
      "\n",
      "Here's a query to retrieve the count of rows in `behavior_data` where `distance_moved` is greater than 1400:\n",
      "\n",
      "```sql\n",
      "SELECT COUNT(*) as count\n",
      "FROM behavior_data \n",
      "WHERE distance_moved > 1400;\n",
      "```\n",
      "\n",
      "To get detailed statistics, such as the average, minimum, and maximum values, you could use:\n",
      "\n",
      "```sql\n",
      "SELECT \n",
      "    COUNT(*) AS count,\n",
      "    AVG(distance_moved) AS avg_distance,\n",
      "    MIN(distance_moved) AS min_distance,\n",
      "    MAX(distance_moved) AS max_distance\n",
      "FROM behavior_data\n",
      "WHERE distance_moved > 1400;\n",
      "```\n",
      "\n",
      "If you need a more comprehensive distribution (e.g., a histogram), you can group the distances into bins. Here's an example query that groups the `distance_moved` values into ranges of 100:\n",
      "\n",
      "```sql\n",
      "SELECT \n",
      "    FLOOR(distance_moved / 100) * 100 AS distance_bin,\n",
      "    COUNT(*) AS count\n",
      "FROM behavior_data\n",
      "WHERE distance_moved > 1400\n",
      "GROUP BY distance_bin\n",
      "ORDER BY distance_bin;\n",
      "```\n",
      "\n",
      "This query will group the `distance_moved` values into bins of 100 units and provide the count of rows in each bin, starting from 1400.\n",
      "\n",
      "### Summary\n",
      "To summarize, the primary task involves querying the `behavior_data` table for rows where `distance_moved` exceeds 1400 and then applying aggregate functions or grouping to understand the data distribution. The examples provided demonstrate how you can achieve these tasks using SQL.\n",
      "\n"
     ]
    }
   ],
   "source": [
    "import re\n",
    "print(llm_output)\n",
    "#sql_queries = re.findall(r\"```SQL(.*?)```\", llm_output, re.DOTALL | re.IGNORECASE)\n",
    "#sql_queries = re.findall(r\"```sql(.*?)```\", llm_output, re.DOTALL | re.IGNORECASE)\n",
    "sql_queries = re.findall(r\"(?:sql|SQL)(.*?)\", llm_output, re.DOTALL)"
   ]
  },
  {
   "cell_type": "code",
   "execution_count": 36,
   "id": "97f95667-5c56-4a42-b17b-dbace4da1b51",
   "metadata": {},
   "outputs": [
    {
     "name": "stdout",
     "output_type": "stream",
     "text": [
      "['SELECT COUNT(*) as count\\nFROM behavior_data \\nWHERE distance_moved > 1400;', 'SELECT \\n    COUNT(*) AS count,\\n    AVG(distance_moved) AS avg_distance,\\n    MIN(distance_moved) AS min_distance,\\n    MAX(distance_moved) AS max_distance\\nFROM behavior_data\\nWHERE distance_moved > 1400;', 'SELECT \\n    FLOOR(distance_moved / 100) * 100 AS distance_bin,\\n    COUNT(*) AS count\\nFROM behavior_data\\nWHERE distance_moved > 1400\\nGROUP BY distance_bin\\nORDER BY distance_bin;']\n"
     ]
    }
   ],
   "source": [
    "print(parsed_queries)"
   ]
  },
  {
   "cell_type": "code",
   "execution_count": 37,
   "id": "282232cf-7ff1-44bd-bb7a-88afa10e4e55",
   "metadata": {},
   "outputs": [
    {
     "name": "stdout",
     "output_type": "stream",
     "text": [
      "SELECT COUNT(*) as count\n",
      "FROM behavior_data \n",
      "WHERE distance_moved > 1400;\n",
      "exec query 1 : SELECT COUNT(*) as count\n",
      "FROM behavior_data \n",
      "WHERE distance_moved > 1400;\n",
      "Column Names: RMKeyView(['count'])\n",
      "Data: [(334,)]\n",
      "column lenth : 1\n",
      "exec query 2 : SELECT \n",
      "    COUNT(*) AS count,\n",
      "    AVG(distance_moved) AS avg_distance,\n",
      "    MIN(distance_moved) AS min_distance,\n",
      "    MAX(distance_moved) AS max_distance\n",
      "FROM behavior_data\n",
      "WHERE distance_moved > 1400;\n",
      "Column Names: RMKeyView(['count', 'avg_distance', 'min_distance', 'max_distance'])\n",
      "Data: [(334, 2191.708718562874, 1407.23, 2958.85)]\n",
      "column lenth : 4\n",
      "exec query 3 : SELECT \n",
      "    FLOOR(distance_moved / 100) * 100 AS distance_bin,\n",
      "    COUNT(*) AS count\n",
      "FROM behavior_data\n",
      "WHERE distance_moved > 1400\n",
      "GROUP BY distance_bin\n",
      "ORDER BY distance_bin;\n",
      "Column Names: RMKeyView(['distance_bin', 'count'])\n",
      "Data: [(1400, 10), (1500, 11), (1600, 11), (1700, 16), (1800, 13), (1900, 28), (2000, 25), (2100, 43), (2200, 47), (2300, 42), (2400, 34), (2500, 19), (2600, 15), (2700, 11), (2800, 7), (2900, 2)]\n",
      "column lenth : 2\n"
     ]
    }
   ],
   "source": [
    "results = []\n",
    "results = exec_query(parsed_queries,db)"
   ]
  },
  {
   "cell_type": "code",
   "execution_count": null,
   "id": "6b6baa52-f267-447f-9fb8-e9c11f8ae7d6",
   "metadata": {},
   "outputs": [],
   "source": []
  },
  {
   "cell_type": "code",
   "execution_count": 38,
   "id": "e06f11f0-3cfd-46cb-9ae5-5d42a51ab65b",
   "metadata": {},
   "outputs": [
    {
     "name": "stdout",
     "output_type": "stream",
     "text": [
      "Results :    count\n",
      "0    334\n",
      "Results :    count  avg_distance  min_distance  max_distance\n",
      "0    334   2191.708719       1407.23       2958.85\n",
      "Results :     distance_bin  count\n",
      "0           1400     10\n",
      "1           1500     11\n",
      "2           1600     11\n",
      "3           1700     16\n",
      "4           1800     13\n",
      "5           1900     28\n",
      "6           2000     25\n",
      "7           2100     43\n",
      "8           2200     47\n",
      "9           2300     42\n",
      "10          2400     34\n",
      "11          2500     19\n",
      "12          2600     15\n",
      "13          2700     11\n",
      "14          2800      7\n",
      "15          2900      2\n"
     ]
    }
   ],
   "source": [
    "for i, result in enumerate(results, start=1):\n",
    "    print (F\"Results : {result}\")"
   ]
  },
  {
   "cell_type": "markdown",
   "id": "f55529c2-3722-45ec-9cf3-02c0f456f09e",
   "metadata": {},
   "source": [
    "## generate the plot based on the output data"
   ]
  },
  {
   "cell_type": "code",
   "execution_count": 48,
   "id": "f1cae1a1-1d79-4b8b-bcda-7f55d54c7f5d",
   "metadata": {},
   "outputs": [],
   "source": [
    "plot_prompt = \"\"\"I have a dataset and want to generate Plotly visualization code based on the data I passed in. The dataset is represented as a Pandas DataFrame.\n",
    "\n",
    "Here are the requirements:\n",
    "\n",
    "Use the provided dataset (data) to create a Plotly figure.\n",
    "Use the go.Scatter trace type.\n",
    "The x-axis , the y-axis .\n",
    "Include a hover template displaying the x  and y values.\n",
    "Set a custom marker color and symbol (e.g., blue circle).\n",
    "Include x-axis and y-axis titles in the layout.\n",
    "Use the Plotly template='plotly' for styling.\n",
    "Output the Python code in the following format:\n",
    "\n",
    " \n",
    "```python \n",
    "data = pd.DataFrame({...})  # Example dataset\n",
    "\n",
    "# Create the Plotly Figure\n",
    "figure = go.Figure(\n",
    "    data=[\n",
    "       \n",
    "    ],\n",
    "    layout=dict(\n",
    "         \n",
    "        template='plotly'\n",
    "    )\n",
    ")\n",
    "figue.show()\n",
    "\"\"\""
   ]
  },
  {
   "cell_type": "code",
   "execution_count": 73,
   "id": "1321ece5-2496-4c23-bd0c-4665d32cf28e",
   "metadata": {},
   "outputs": [],
   "source": [
    "plot_prompt_2 = \"\"\"Can you use it to generate Plotly visualization code? The dataset is represented as a Pandas DataFrame.\n",
    "\n",
    "Here are the requirements:\n",
    "\n",
    "Use the provided dataset (data) to create a Plotly figure.\n",
    " \n",
    "The x-axis , the y-axis .\n",
    "Include a hover template displaying the x  and y values.\n",
    "Set a custom marker color and symbol (e.g., blue circle).\n",
    "Include x-axis and y-axis titles in the layout.\n",
    "choose the best plot type for the data for instance  'bar', 'pie' or 'Scatter' whichever is properly for the data\n",
    "Use the Plotly template='plotly' for styling.\n",
    "Output the Python code in the following format:\n",
    "\n",
    " \n",
    "```python \n",
    "import numpy as np\n",
    "\n",
    "data = mydata  # replace this by passed in data\n",
    "\n",
    "# Create the Plotly Figure\n",
    "fig = go.Figure({\n",
    "     'data': [{'domain': ,\n",
    "               'hovertemplate': ,\n",
    "               'labels': np.array(      ),\n",
    "               'legendgroup': '',\n",
    "               'name': '',\n",
    "               'showlegend': True,\n",
    "               'type': ,\n",
    "               'values': np.array([])}],\n",
    "     'layout': {'legend': {'tracegroupgap': 0}, 'template': '', 'title': {'text': ''}}\n",
    " })\n",
    "fig.show()\n",
    "\"\"\""
   ]
  },
  {
   "cell_type": "code",
   "execution_count": 74,
   "id": "5c848233-79f2-4b5e-8232-acb0d863cda2",
   "metadata": {},
   "outputs": [],
   "source": [
    "def draw_plot (question,data):\n",
    "    response = client.chat.completions.create(\n",
    "    model=\"azure-gpt-4o\", # model to send to the proxy\n",
    "    messages = [\n",
    "        {\n",
    "            \"role\": \"user\",\n",
    "            #\"content\": \"this is a test request, write a short poem\"\n",
    "             \"content\": f\"Here is the data {data} and {question}\",\n",
    "             #\"content\": f\"Summarize the following text:\\n {documents}\",\n",
    "            \n",
    "        }\n",
    "    ]\n",
    ")\n",
    "    return response.choices[0].message.content"
   ]
  },
  {
   "cell_type": "code",
   "execution_count": 75,
   "id": "88b24edb-50fb-4a53-bbd2-b46b67daed00",
   "metadata": {},
   "outputs": [
    {
     "data": {
      "text/plain": [
       "\"Since you provided a simple dataset with only one count value, I believe a bar plot would be most appropriate for visualization. Here’s the Python code meeting your requirements:\\n\\n```python\\nimport numpy as np\\nimport pandas as pd\\nimport plotly.graph_objects as go\\n\\n# Provided data\\ndata = pd.DataFrame({'count': [334]})\\n\\n# Create the Plotly Figure\\nfig = go.Figure({\\n    'data': [{\\n        'x': ['count'],  # x-axis value\\n        'y': data['count'],  # y-axis values from the dataset\\n        'type': 'bar',  # bar plot type\\n        'marker': {'color': 'blue', 'symbol': 'circle'},  # custom marker\\n        'hovertemplate': 'x: %{x}<br>y: %{y}<extra></extra>',  # hover template\\n        'showlegend': False,  # No legend needed\\n    }],\\n    'layout': {\\n        'xaxis': {\\n            'title': 'Category',  # x-axis title\\n        },\\n        'yaxis': {\\n            'title': 'Count',  # y-axis title\\n        },\\n        'template': 'plotly',  # template for styling\\n        'title': {'text': 'Bar Plot for Count'}  # plot title\\n    }\\n})\\n\\nfig.show()\\n```\\n\\nMake sure to replace `data = mydata` with the actual data when integrating it with your dataset. The code above will generate a bar plot with custom hover information, marker color, and axis titles.\""
      ]
     },
     "execution_count": 75,
     "metadata": {},
     "output_type": "execute_result"
    }
   ],
   "source": [
    "draw_plot(plot_prompt_2, results[0])"
   ]
  },
  {
   "cell_type": "code",
   "execution_count": 76,
   "id": "eb90e1bb-6c66-457b-8c16-6b7678f98aa4",
   "metadata": {},
   "outputs": [],
   "source": [
    "#import pandas as pd\n",
    "#import matplotlib.pyplot as plt\n",
    "#import seaborn as sns\n",
    "##****important run this before run figure.show()\n",
    "import plotly.io as pio\n",
    "pio.renderers.default = 'iframe'\n",
    "import plotly.graph_objects as go\n"
   ]
  },
  {
   "cell_type": "code",
   "execution_count": 83,
   "id": "b86f5a70-d355-4d4e-afdb-c92f7ac3eec7",
   "metadata": {},
   "outputs": [
    {
     "data": {
      "text/html": [
       "<iframe\n",
       "    scrolling=\"no\"\n",
       "    width=\"100%\"\n",
       "    height=\"545px\"\n",
       "    src=\"iframe_figures/figure_83.html\"\n",
       "    frameborder=\"0\"\n",
       "    allowfullscreen\n",
       "></iframe>\n"
      ]
     },
     "metadata": {},
     "output_type": "display_data"
    }
   ],
   "source": [
    "import numpy as np\n",
    "import pandas as pd\n",
    "import plotly.graph_objects as go\n",
    "\n",
    "# Provided data\n",
    "data = pd.DataFrame({'count': [334]})\n",
    "\n",
    "# Create the Plotly Figure\n",
    "fig = go.Figure({\n",
    "    'data': [{\n",
    "        'x': ['count'],  # x-axis value\n",
    "        'y': data['count'].tolist(),\n",
    "        'type': 'bar',  # bar plot type\n",
    "        'marker': {'color': 'blue'},  # custom marker\n",
    "        'hovertemplate': 'x: %{x}<br>y: %{y}<extra></extra>',  # hover template\n",
    "        'showlegend': False,  # No legend needed\n",
    "    }],\n",
    "    'layout': {\n",
    "        'xaxis': {\n",
    "            'title': 'Category',  # x-axis title\n",
    "        },\n",
    "        'yaxis': {\n",
    "            'title': 'Count',  # y-axis title\n",
    "        },\n",
    "        'template': 'plotly',  # template for styling\n",
    "        'title': {'text': 'Bar Plot for Count'}  # plot title\n",
    "    }\n",
    "})\n",
    "\n",
    "fig.show()"
   ]
  },
  {
   "cell_type": "code",
   "execution_count": null,
   "id": "36f4eb7e-4411-475e-afd4-64096966b209",
   "metadata": {},
   "outputs": [],
   "source": [
    "import numpy as np\n",
    "import pandas as pd\n",
    "import plotly.graph_objects as go\n",
    "\n",
    "# Provided data\n",
    "data = pd.DataFrame({'count': [334]})\n",
    "\n",
    "# Create the Plotly Figure\n",
    "fig = go.Figure(\n",
    "    data=[\n",
    "        go.Bar(\n",
    "            x=['count'],  # x-axis value\n",
    "            y=data['count'].tolist(),  # Convert Pandas Series to list for y-axis\n",
    "            marker=dict(color='blue'),  # Custom bar color\n",
    "            hovertemplate='Category: %{x}<br>Count: %{y}<extra></extra>'  # Hover template\n",
    "        )\n",
    "    ],\n",
    "    layout=go.Layout(\n",
    "        title='Bar Plot for Count',  # Plot title\n",
    "        xaxis=dict(title='Category'),  # x-axis title\n",
    "        yaxis=dict(title='Count'),  # y-axis title\n",
    "        template='plotly'  # Template for styling\n",
    "    )\n",
    ")\n",
    "\n",
    "fig.show()\n"
   ]
  },
  {
   "cell_type": "code",
   "execution_count": 70,
   "id": "47778f8c-16e4-4abc-969c-da4a59a62f58",
   "metadata": {},
   "outputs": [
    {
     "data": {
      "text/html": [
       "<iframe\n",
       "    scrolling=\"no\"\n",
       "    width=\"100%\"\n",
       "    height=\"545px\"\n",
       "    src=\"iframe_figures/figure_70.html\"\n",
       "    frameborder=\"0\"\n",
       "    allowfullscreen\n",
       "></iframe>\n"
      ]
     },
     "metadata": {},
     "output_type": "display_data"
    }
   ],
   "source": [
    "import plotly.graph_objects as go\n",
    "import pandas as pd\n",
    "\n",
    "# Assuming the provided data is already in a DataFrame\n",
    "data = pd.DataFrame({'count': [334]})\n",
    "\n",
    "# Create the Plotly Figure\n",
    "fig = go.Figure(\n",
    "    data=[\n",
    "        go.Scatter(\n",
    "            x=data.index, \n",
    "            y=data['count'], \n",
    "            mode='markers', \n",
    "            marker=dict(color='blue', symbol='circle'),\n",
    "            hovertemplate='x: %{x}<br>y: %{y}<extra></extra>'\n",
    "        )\n",
    "    ],\n",
    "    layout=go.Layout(\n",
    "        xaxis=dict(title='Index'),\n",
    "        yaxis=dict(title='Count'),\n",
    "        template='plotly'\n",
    "    )\n",
    ")\n",
    "\n",
    "fig.show()"
   ]
  },
  {
   "cell_type": "code",
   "execution_count": 84,
   "id": "0e288f28-6d88-475e-94bf-cef9504266a5",
   "metadata": {},
   "outputs": [
    {
     "data": {
      "text/plain": [
       "\"Given the provided dataset and the requirements, I will recommend using a scatter plot to visualize the relationship between different distance measures since it offers better insight for continuous data. Here’s the Plotly code to create the required visualization:\\n\\n```python \\nimport numpy as np\\nimport pandas as pd\\nimport plotly.graph_objs as go\\n\\n# Replace this by the provided data\\ndata = pd.DataFrame({\\n    'count': [334],\\n    'avg_distance': [2191.708719],\\n    'min_distance': [1407.23],\\n    'max_distance': [2958.85]\\n})\\n\\n# Create the Plotly Figure\\nfig = go.Figure(\\n    data=[\\n        go.Scatter(\\n            x=['avg_distance', 'min_distance', 'max_distance'], \\n            y=[data['avg_distance'][0], data['min_distance'][0], data['max_distance'][0]], \\n            mode='markers', \\n            marker=dict(color='blue', symbol='circle', size=12),\\n            hovertemplate='Distance: %{x}<br>Value: %{y}<extra></extra>'\\n        )\\n    ],\\n    layout={\\n        'xaxis': {'title': 'Distance Type'},\\n        'yaxis': {'title': 'Value'},\\n        'template': 'plotly',\\n        'title': {'text': 'Distance Metrics Visualization'}\\n    }\\n)\\n\\nfig.show()\\n```\\n\\nIn this script:\\n- A scatter plot is used because it helps in visualizing different distance metrics effectively.\\n- The x-axis denotes different distance metrics ('avg_distance', 'min_distance', 'max_distance').\\n- The y-axis shows the corresponding values.\\n- Hover template is set for better display of x and y values on hover.\\n- Custom marker styles for aesthetics.\\n- Titles added for better context.\""
      ]
     },
     "execution_count": 84,
     "metadata": {},
     "output_type": "execute_result"
    }
   ],
   "source": [
    "draw_plot(plot_prompt_2, results[1])"
   ]
  },
  {
   "cell_type": "code",
   "execution_count": 85,
   "id": "35b78bcf-06bc-4f82-a9b7-088cd0d3796d",
   "metadata": {},
   "outputs": [
    {
     "data": {
      "text/html": [
       "<iframe\n",
       "    scrolling=\"no\"\n",
       "    width=\"100%\"\n",
       "    height=\"545px\"\n",
       "    src=\"iframe_figures/figure_85.html\"\n",
       "    frameborder=\"0\"\n",
       "    allowfullscreen\n",
       "></iframe>\n"
      ]
     },
     "metadata": {},
     "output_type": "display_data"
    }
   ],
   "source": [
    "import numpy as np\n",
    "import pandas as pd\n",
    "import plotly.graph_objs as go\n",
    "\n",
    "# Replace this by the provided data\n",
    "data = pd.DataFrame({\n",
    "    'count': [334],\n",
    "    'avg_distance': [2191.708719],\n",
    "    'min_distance': [1407.23],\n",
    "    'max_distance': [2958.85]\n",
    "})\n",
    "\n",
    "# Create the Plotly Figure\n",
    "fig = go.Figure(\n",
    "    data=[\n",
    "        go.Scatter(\n",
    "            x=['avg_distance', 'min_distance', 'max_distance'], \n",
    "            y=[data['avg_distance'][0], data['min_distance'][0], data['max_distance'][0]], \n",
    "            mode='markers', \n",
    "            marker=dict(color='blue', symbol='circle', size=12),\n",
    "            hovertemplate='Distance: %{x}<br>Value: %{y}<extra></extra>'\n",
    "        )\n",
    "    ],\n",
    "    layout={\n",
    "        'xaxis': {'title': 'Distance Type'},\n",
    "        'yaxis': {'title': 'Value'},\n",
    "        'template': 'plotly',\n",
    "        'title': {'text': 'Distance Metrics Visualization'}\n",
    "    }\n",
    ")\n",
    "\n",
    "fig.show()"
   ]
  },
  {
   "cell_type": "code",
   "execution_count": null,
   "id": "2403af8b-4270-4a18-831a-9e84363e4c7d",
   "metadata": {},
   "outputs": [],
   "source": []
  },
  {
   "cell_type": "code",
   "execution_count": 86,
   "id": "cea19cfd-5001-4fa1-b8b4-550de6fa1d9c",
   "metadata": {},
   "outputs": [
    {
     "data": {
      "text/plain": [
       "\"Certainly! Here's the Python code based on your requirements. We'll use the Plotly library to generate a scatter plot visualization:\\n\\n```python\\nimport pandas as pd\\nimport plotly.graph_objects as go\\n\\n# Example dataset\\ndata = pd.DataFrame({\\n    'distance_bin': [1400, 1500, 1600, 1700, 1800, 1900, 2000, 2100, 2200, 2300, 2400, 2500, 2600, 2700, 2800, 2900],\\n    'count': [10, 11, 11, 16, 13, 28, 25, 43, 47, 42, 34, 19, 15, 11, 7, 2]\\n})\\n\\n# Create the Plotly Figure\\nfigure = go.Figure(\\n    data=[\\n        go.Scatter(\\n            x=data['distance_bin'],\\n            y=data['count'],\\n            mode='markers',\\n            marker=dict(\\n                color='blue',\\n                symbol='circle'\\n            ),\\n            hovertemplate='Distance: %{x}<br>Count: %{y}<extra></extra>'\\n        )\\n    ],\\n    layout=dict(\\n        title='Scatter Plot of Distance vs Count',\\n        xaxis=dict(title='Distance Bin'),\\n        yaxis=dict(title='Count'),\\n        template='plotly'\\n    )\\n)\\n\\nfigure.show()\\n```\\n\\nThis code uses the Plotly library to create a scatter plot with blue circles as markers for data points. It includes customized hover templates to display the x and y values when hovering over the points, and appropriate titles for the x-axis and y-axis. The plot uses the `plotly` template for styling.\""
      ]
     },
     "execution_count": 86,
     "metadata": {},
     "output_type": "execute_result"
    }
   ],
   "source": [
    "draw_plot(plot_prompt, results[2])"
   ]
  },
  {
   "cell_type": "code",
   "execution_count": 87,
   "id": "5ecf201d-6dc4-412c-bc91-babc825f3a9f",
   "metadata": {},
   "outputs": [
    {
     "data": {
      "text/html": [
       "<iframe\n",
       "    scrolling=\"no\"\n",
       "    width=\"100%\"\n",
       "    height=\"545px\"\n",
       "    src=\"iframe_figures/figure_87.html\"\n",
       "    frameborder=\"0\"\n",
       "    allowfullscreen\n",
       "></iframe>\n"
      ]
     },
     "metadata": {},
     "output_type": "display_data"
    }
   ],
   "source": [
    "import pandas as pd\n",
    "import plotly.graph_objects as go\n",
    "\n",
    "# Example dataset\n",
    "data = pd.DataFrame({\n",
    "    'distance_bin': [1400, 1500, 1600, 1700, 1800, 1900, 2000, 2100, 2200, 2300, 2400, 2500, 2600, 2700, 2800, 2900],\n",
    "    'count': [10, 11, 11, 16, 13, 28, 25, 43, 47, 42, 34, 19, 15, 11, 7, 2]\n",
    "})\n",
    "\n",
    "# Create the Plotly Figure\n",
    "figure = go.Figure(\n",
    "    data=[\n",
    "        go.Scatter(\n",
    "            x=data['distance_bin'],\n",
    "            y=data['count'],\n",
    "            mode='markers',\n",
    "            marker=dict(\n",
    "                color='blue',\n",
    "                symbol='circle'\n",
    "            ),\n",
    "            hovertemplate='Distance: %{x}<br>Count: %{y}<extra></extra>'\n",
    "        )\n",
    "    ],\n",
    "    layout=dict(\n",
    "        title='Scatter Plot of Distance vs Count',\n",
    "        xaxis=dict(title='Distance Bin'),\n",
    "        yaxis=dict(title='Count'),\n",
    "        template='plotly'\n",
    "    )\n",
    ")\n",
    "\n",
    "figure.show()"
   ]
  },
  {
   "cell_type": "code",
   "execution_count": 47,
   "id": "82910f5b-1ad4-4c3d-a206-5a756e4e19a3",
   "metadata": {},
   "outputs": [
    {
     "data": {
      "text/html": [
       "<iframe\n",
       "    scrolling=\"no\"\n",
       "    width=\"100%\"\n",
       "    height=\"545px\"\n",
       "    src=\"iframe_figures/figure_47.html\"\n",
       "    frameborder=\"0\"\n",
       "    allowfullscreen\n",
       "></iframe>\n"
      ]
     },
     "metadata": {},
     "output_type": "display_data"
    }
   ],
   "source": [
    "import pandas as pd\n",
    "import plotly.graph_objects as go\n",
    "\n",
    "# Create the DataFrame\n",
    "data = pd.DataFrame({\n",
    "    'distance_bin': [1400, 1500, 1600, 1700, 1800, 1900, 2000, 2100, 2200, 2300, 2400, 2500, 2600, 2700, 2800, 2900],\n",
    "    'count': [10, 11, 11, 16, 13, 28, 25, 43, 47, 42, 34, 19, 15, 11, 7, 2]\n",
    "})\n",
    "\n",
    "# Create the Plotly Figure\n",
    "figure = go.Figure(\n",
    "    data=[\n",
    "        go.Scatter(\n",
    "            x=data['distance_bin'],\n",
    "            y=data['count'],\n",
    "            mode='markers',\n",
    "            marker=dict(\n",
    "                color='blue',\n",
    "                symbol='circle'\n",
    "            ),\n",
    "            hovertemplate='Distance Bin: %{x}<br>Count: %{y}<extra></extra>'\n",
    "        )\n",
    "    ],\n",
    "    layout=dict(\n",
    "        title='Distance Bin vs. Count',\n",
    "        xaxis_title='Distance Bin',\n",
    "        yaxis_title='Count',\n",
    "        template='plotly'\n",
    "    )\n",
    ")\n",
    "\n",
    "figure.show()"
   ]
  },
  {
   "cell_type": "markdown",
   "id": "3f7de8bf-4bbc-42d8-b706-bcc60c703528",
   "metadata": {},
   "source": [
    "import seaborn as sns\n",
    "import matplotlib.pyplot as plt\n",
    "\n",
    "fig, ax = plt.subplots()\n",
    "ax.bar('Endpoints', results[0], color='blue')\n",
    "\n",
    "ax.set_xlabel('Table')\n",
    "ax.set_ylabel('Count')\n",
    "ax.set_title('Number of Endpoints in Database')\n",
    "\n",
    "# Show the plot\n",
    "plt.show()"
   ]
  },
  {
   "cell_type": "code",
   "execution_count": 18,
   "id": "e739ee0c-ba42-4600-962e-766e4e326cb5",
   "metadata": {},
   "outputs": [
    {
     "name": "stdout",
     "output_type": "stream",
     "text": [
      "<class 'pandas.core.frame.DataFrame'>\n"
     ]
    }
   ],
   "source": [
    "print(type(results[0]))"
   ]
  },
  {
   "cell_type": "markdown",
   "id": "65e33a8a-b73e-49c4-a791-a4e459997fd0",
   "metadata": {},
   "source": [
    "import altair as alt\n",
    "import pandas as pd\n",
    "\n",
    "# Example dataset\n",
    "#data = pd.DataFrame({'X': [1, 2, 3, 4, 5], 'Y': [10, 20, 15, 25, 30]})\n",
    "data = results[0]\n",
    "\n",
    "# Altair scatter plot\n",
    "chart = alt.Chart(data).mark_circle(size=100).encode(\n",
    "    x='X',\n",
    "    y='Y',\n",
    "    tooltip=['X', 'Y']\n",
    ").properties(title='Altair Scatter Plot')\n",
    "chart.display()"
   ]
  },
  {
   "cell_type": "code",
   "execution_count": 20,
   "id": "057e78cb-8626-400f-9449-973a96160aee",
   "metadata": {},
   "outputs": [
    {
     "name": "stdout",
     "output_type": "stream",
     "text": [
      "  Category  Values\n",
      "0        A      10\n",
      "1        B      20\n",
      "2        C      15\n",
      "3        D      25\n"
     ]
    },
    {
     "ename": "ValueError",
     "evalue": "Could not interpret value `` for `x`. An entry with this name does not appear in `data`.",
     "output_type": "error",
     "traceback": [
      "\u001b[0;31m---------------------------------------------------------------------------\u001b[0m",
      "\u001b[0;31mValueError\u001b[0m                                Traceback (most recent call last)",
      "Input \u001b[0;32mIn [20]\u001b[0m, in \u001b[0;36m<cell line: 13>\u001b[0;34m()\u001b[0m\n\u001b[1;32m     11\u001b[0m sns\u001b[38;5;241m.\u001b[39mset(style\u001b[38;5;241m=\u001b[39m\u001b[38;5;124m\"\u001b[39m\u001b[38;5;124mwhitegrid\u001b[39m\u001b[38;5;124m\"\u001b[39m)\n\u001b[1;32m     12\u001b[0m plt\u001b[38;5;241m.\u001b[39mfigure(figsize\u001b[38;5;241m=\u001b[39m(\u001b[38;5;241m8\u001b[39m, \u001b[38;5;241m6\u001b[39m))\n\u001b[0;32m---> 13\u001b[0m \u001b[43msns\u001b[49m\u001b[38;5;241;43m.\u001b[39;49m\u001b[43mbarplot\u001b[49m\u001b[43m(\u001b[49m\u001b[43mx\u001b[49m\u001b[38;5;241;43m=\u001b[39;49m\u001b[38;5;124;43m'\u001b[39;49m\u001b[38;5;124;43m'\u001b[39;49m\u001b[43m,\u001b[49m\u001b[43m \u001b[49m\u001b[43my\u001b[49m\u001b[38;5;241;43m=\u001b[39;49m\u001b[38;5;124;43m'\u001b[39;49m\u001b[38;5;124;43mCategory\u001b[39;49m\u001b[38;5;124;43m'\u001b[39;49m\u001b[43m,\u001b[49m\u001b[43m \u001b[49m\u001b[43mdata\u001b[49m\u001b[38;5;241;43m=\u001b[39;49m\u001b[43mdf\u001b[49m\u001b[43m,\u001b[49m\u001b[43m \u001b[49m\u001b[43mpalette\u001b[49m\u001b[38;5;241;43m=\u001b[39;49m\u001b[38;5;124;43m'\u001b[39;49m\u001b[38;5;124;43mviridis\u001b[39;49m\u001b[38;5;124;43m'\u001b[39;49m\u001b[43m)\u001b[49m\n\u001b[1;32m     14\u001b[0m plt\u001b[38;5;241m.\u001b[39mtitle(\u001b[38;5;124m'\u001b[39m\u001b[38;5;124mBar Plot\u001b[39m\u001b[38;5;124m'\u001b[39m)\n\u001b[1;32m     15\u001b[0m plt\u001b[38;5;241m.\u001b[39mshow()\n",
      "File \u001b[0;32m~/.conda/envs/py38/lib/python3.8/site-packages/seaborn/categorical.py:2341\u001b[0m, in \u001b[0;36mbarplot\u001b[0;34m(data, x, y, hue, order, hue_order, estimator, errorbar, n_boot, seed, units, weights, orient, color, palette, saturation, fill, hue_norm, width, dodge, gap, log_scale, native_scale, formatter, legend, capsize, err_kws, ci, errcolor, errwidth, ax, **kwargs)\u001b[0m\n\u001b[1;32m   2338\u001b[0m \u001b[38;5;28;01mif\u001b[39;00m estimator \u001b[38;5;129;01mis\u001b[39;00m \u001b[38;5;28mlen\u001b[39m:\n\u001b[1;32m   2339\u001b[0m     estimator \u001b[38;5;241m=\u001b[39m \u001b[38;5;124m\"\u001b[39m\u001b[38;5;124msize\u001b[39m\u001b[38;5;124m\"\u001b[39m\n\u001b[0;32m-> 2341\u001b[0m p \u001b[38;5;241m=\u001b[39m \u001b[43m_CategoricalAggPlotter\u001b[49m\u001b[43m(\u001b[49m\n\u001b[1;32m   2342\u001b[0m \u001b[43m    \u001b[49m\u001b[43mdata\u001b[49m\u001b[38;5;241;43m=\u001b[39;49m\u001b[43mdata\u001b[49m\u001b[43m,\u001b[49m\n\u001b[1;32m   2343\u001b[0m \u001b[43m    \u001b[49m\u001b[43mvariables\u001b[49m\u001b[38;5;241;43m=\u001b[39;49m\u001b[38;5;28;43mdict\u001b[39;49m\u001b[43m(\u001b[49m\u001b[43mx\u001b[49m\u001b[38;5;241;43m=\u001b[39;49m\u001b[43mx\u001b[49m\u001b[43m,\u001b[49m\u001b[43m \u001b[49m\u001b[43my\u001b[49m\u001b[38;5;241;43m=\u001b[39;49m\u001b[43my\u001b[49m\u001b[43m,\u001b[49m\u001b[43m \u001b[49m\u001b[43mhue\u001b[49m\u001b[38;5;241;43m=\u001b[39;49m\u001b[43mhue\u001b[49m\u001b[43m,\u001b[49m\u001b[43m \u001b[49m\u001b[43munits\u001b[49m\u001b[38;5;241;43m=\u001b[39;49m\u001b[43munits\u001b[49m\u001b[43m,\u001b[49m\u001b[43m \u001b[49m\u001b[43mweight\u001b[49m\u001b[38;5;241;43m=\u001b[39;49m\u001b[43mweights\u001b[49m\u001b[43m)\u001b[49m\u001b[43m,\u001b[49m\n\u001b[1;32m   2344\u001b[0m \u001b[43m    \u001b[49m\u001b[43morder\u001b[49m\u001b[38;5;241;43m=\u001b[39;49m\u001b[43morder\u001b[49m\u001b[43m,\u001b[49m\n\u001b[1;32m   2345\u001b[0m \u001b[43m    \u001b[49m\u001b[43morient\u001b[49m\u001b[38;5;241;43m=\u001b[39;49m\u001b[43morient\u001b[49m\u001b[43m,\u001b[49m\n\u001b[1;32m   2346\u001b[0m \u001b[43m    \u001b[49m\u001b[43mcolor\u001b[49m\u001b[38;5;241;43m=\u001b[39;49m\u001b[43mcolor\u001b[49m\u001b[43m,\u001b[49m\n\u001b[1;32m   2347\u001b[0m \u001b[43m    \u001b[49m\u001b[43mlegend\u001b[49m\u001b[38;5;241;43m=\u001b[39;49m\u001b[43mlegend\u001b[49m\u001b[43m,\u001b[49m\n\u001b[1;32m   2348\u001b[0m \u001b[43m\u001b[49m\u001b[43m)\u001b[49m\n\u001b[1;32m   2350\u001b[0m \u001b[38;5;28;01mif\u001b[39;00m ax \u001b[38;5;129;01mis\u001b[39;00m \u001b[38;5;28;01mNone\u001b[39;00m:\n\u001b[1;32m   2351\u001b[0m     ax \u001b[38;5;241m=\u001b[39m plt\u001b[38;5;241m.\u001b[39mgca()\n",
      "File \u001b[0;32m~/.conda/envs/py38/lib/python3.8/site-packages/seaborn/categorical.py:67\u001b[0m, in \u001b[0;36m_CategoricalPlotter.__init__\u001b[0;34m(self, data, variables, order, orient, require_numeric, color, legend)\u001b[0m\n\u001b[1;32m     56\u001b[0m \u001b[38;5;28;01mdef\u001b[39;00m \u001b[38;5;21m__init__\u001b[39m(\n\u001b[1;32m     57\u001b[0m     \u001b[38;5;28mself\u001b[39m,\n\u001b[1;32m     58\u001b[0m     data\u001b[38;5;241m=\u001b[39m\u001b[38;5;28;01mNone\u001b[39;00m,\n\u001b[0;32m   (...)\u001b[0m\n\u001b[1;32m     64\u001b[0m     legend\u001b[38;5;241m=\u001b[39m\u001b[38;5;124m\"\u001b[39m\u001b[38;5;124mauto\u001b[39m\u001b[38;5;124m\"\u001b[39m,\n\u001b[1;32m     65\u001b[0m ):\n\u001b[0;32m---> 67\u001b[0m     \u001b[38;5;28;43msuper\u001b[39;49m\u001b[43m(\u001b[49m\u001b[43m)\u001b[49m\u001b[38;5;241;43m.\u001b[39;49m\u001b[38;5;21;43m__init__\u001b[39;49m\u001b[43m(\u001b[49m\u001b[43mdata\u001b[49m\u001b[38;5;241;43m=\u001b[39;49m\u001b[43mdata\u001b[49m\u001b[43m,\u001b[49m\u001b[43m \u001b[49m\u001b[43mvariables\u001b[49m\u001b[38;5;241;43m=\u001b[39;49m\u001b[43mvariables\u001b[49m\u001b[43m)\u001b[49m\n\u001b[1;32m     69\u001b[0m     \u001b[38;5;66;03m# This method takes care of some bookkeeping that is necessary because the\u001b[39;00m\n\u001b[1;32m     70\u001b[0m     \u001b[38;5;66;03m# original categorical plots (prior to the 2021 refactor) had some rules that\u001b[39;00m\n\u001b[1;32m     71\u001b[0m     \u001b[38;5;66;03m# don't fit exactly into VectorPlotter logic. It may be wise to have a second\u001b[39;00m\n\u001b[0;32m   (...)\u001b[0m\n\u001b[1;32m     76\u001b[0m     \u001b[38;5;66;03m# default VectorPlotter rules. If we do decide to make orient part of the\u001b[39;00m\n\u001b[1;32m     77\u001b[0m     \u001b[38;5;66;03m# _base variable assignment, we'll want to figure out how to express that.\u001b[39;00m\n\u001b[1;32m     78\u001b[0m     \u001b[38;5;28;01mif\u001b[39;00m \u001b[38;5;28mself\u001b[39m\u001b[38;5;241m.\u001b[39minput_format \u001b[38;5;241m==\u001b[39m \u001b[38;5;124m\"\u001b[39m\u001b[38;5;124mwide\u001b[39m\u001b[38;5;124m\"\u001b[39m \u001b[38;5;129;01mand\u001b[39;00m orient \u001b[38;5;129;01min\u001b[39;00m [\u001b[38;5;124m\"\u001b[39m\u001b[38;5;124mh\u001b[39m\u001b[38;5;124m\"\u001b[39m, \u001b[38;5;124m\"\u001b[39m\u001b[38;5;124my\u001b[39m\u001b[38;5;124m\"\u001b[39m]:\n",
      "File \u001b[0;32m~/.conda/envs/py38/lib/python3.8/site-packages/seaborn/_base.py:634\u001b[0m, in \u001b[0;36mVectorPlotter.__init__\u001b[0;34m(self, data, variables)\u001b[0m\n\u001b[1;32m    629\u001b[0m \u001b[38;5;66;03m# var_ordered is relevant only for categorical axis variables, and may\u001b[39;00m\n\u001b[1;32m    630\u001b[0m \u001b[38;5;66;03m# be better handled by an internal axis information object that tracks\u001b[39;00m\n\u001b[1;32m    631\u001b[0m \u001b[38;5;66;03m# such information and is set up by the scale_* methods. The analogous\u001b[39;00m\n\u001b[1;32m    632\u001b[0m \u001b[38;5;66;03m# information for numeric axes would be information about log scales.\u001b[39;00m\n\u001b[1;32m    633\u001b[0m \u001b[38;5;28mself\u001b[39m\u001b[38;5;241m.\u001b[39m_var_ordered \u001b[38;5;241m=\u001b[39m {\u001b[38;5;124m\"\u001b[39m\u001b[38;5;124mx\u001b[39m\u001b[38;5;124m\"\u001b[39m: \u001b[38;5;28;01mFalse\u001b[39;00m, \u001b[38;5;124m\"\u001b[39m\u001b[38;5;124my\u001b[39m\u001b[38;5;124m\"\u001b[39m: \u001b[38;5;28;01mFalse\u001b[39;00m}  \u001b[38;5;66;03m# alt., used DefaultDict\u001b[39;00m\n\u001b[0;32m--> 634\u001b[0m \u001b[38;5;28;43mself\u001b[39;49m\u001b[38;5;241;43m.\u001b[39;49m\u001b[43massign_variables\u001b[49m\u001b[43m(\u001b[49m\u001b[43mdata\u001b[49m\u001b[43m,\u001b[49m\u001b[43m \u001b[49m\u001b[43mvariables\u001b[49m\u001b[43m)\u001b[49m\n\u001b[1;32m    636\u001b[0m \u001b[38;5;66;03m# TODO Lots of tests assume that these are called to initialize the\u001b[39;00m\n\u001b[1;32m    637\u001b[0m \u001b[38;5;66;03m# mappings to default values on class initialization. I'd prefer to\u001b[39;00m\n\u001b[1;32m    638\u001b[0m \u001b[38;5;66;03m# move away from that and only have a mapping when explicitly called.\u001b[39;00m\n\u001b[1;32m    639\u001b[0m \u001b[38;5;28;01mfor\u001b[39;00m var \u001b[38;5;129;01min\u001b[39;00m [\u001b[38;5;124m\"\u001b[39m\u001b[38;5;124mhue\u001b[39m\u001b[38;5;124m\"\u001b[39m, \u001b[38;5;124m\"\u001b[39m\u001b[38;5;124msize\u001b[39m\u001b[38;5;124m\"\u001b[39m, \u001b[38;5;124m\"\u001b[39m\u001b[38;5;124mstyle\u001b[39m\u001b[38;5;124m\"\u001b[39m]:\n",
      "File \u001b[0;32m~/.conda/envs/py38/lib/python3.8/site-packages/seaborn/_base.py:679\u001b[0m, in \u001b[0;36mVectorPlotter.assign_variables\u001b[0;34m(self, data, variables)\u001b[0m\n\u001b[1;32m    674\u001b[0m \u001b[38;5;28;01melse\u001b[39;00m:\n\u001b[1;32m    675\u001b[0m     \u001b[38;5;66;03m# When dealing with long-form input, use the newer PlotData\u001b[39;00m\n\u001b[1;32m    676\u001b[0m     \u001b[38;5;66;03m# object (internal but introduced for the objects interface)\u001b[39;00m\n\u001b[1;32m    677\u001b[0m     \u001b[38;5;66;03m# to centralize / standardize data consumption logic.\u001b[39;00m\n\u001b[1;32m    678\u001b[0m     \u001b[38;5;28mself\u001b[39m\u001b[38;5;241m.\u001b[39minput_format \u001b[38;5;241m=\u001b[39m \u001b[38;5;124m\"\u001b[39m\u001b[38;5;124mlong\u001b[39m\u001b[38;5;124m\"\u001b[39m\n\u001b[0;32m--> 679\u001b[0m     plot_data \u001b[38;5;241m=\u001b[39m \u001b[43mPlotData\u001b[49m\u001b[43m(\u001b[49m\u001b[43mdata\u001b[49m\u001b[43m,\u001b[49m\u001b[43m \u001b[49m\u001b[43mvariables\u001b[49m\u001b[43m)\u001b[49m\n\u001b[1;32m    680\u001b[0m     frame \u001b[38;5;241m=\u001b[39m plot_data\u001b[38;5;241m.\u001b[39mframe\n\u001b[1;32m    681\u001b[0m     names \u001b[38;5;241m=\u001b[39m plot_data\u001b[38;5;241m.\u001b[39mnames\n",
      "File \u001b[0;32m~/.conda/envs/py38/lib/python3.8/site-packages/seaborn/_core/data.py:58\u001b[0m, in \u001b[0;36mPlotData.__init__\u001b[0;34m(self, data, variables)\u001b[0m\n\u001b[1;32m     51\u001b[0m \u001b[38;5;28;01mdef\u001b[39;00m \u001b[38;5;21m__init__\u001b[39m(\n\u001b[1;32m     52\u001b[0m     \u001b[38;5;28mself\u001b[39m,\n\u001b[1;32m     53\u001b[0m     data: DataSource,\n\u001b[1;32m     54\u001b[0m     variables: \u001b[38;5;28mdict\u001b[39m[\u001b[38;5;28mstr\u001b[39m, VariableSpec],\n\u001b[1;32m     55\u001b[0m ):\n\u001b[1;32m     57\u001b[0m     data \u001b[38;5;241m=\u001b[39m handle_data_source(data)\n\u001b[0;32m---> 58\u001b[0m     frame, names, ids \u001b[38;5;241m=\u001b[39m \u001b[38;5;28;43mself\u001b[39;49m\u001b[38;5;241;43m.\u001b[39;49m\u001b[43m_assign_variables\u001b[49m\u001b[43m(\u001b[49m\u001b[43mdata\u001b[49m\u001b[43m,\u001b[49m\u001b[43m \u001b[49m\u001b[43mvariables\u001b[49m\u001b[43m)\u001b[49m\n\u001b[1;32m     60\u001b[0m     \u001b[38;5;28mself\u001b[39m\u001b[38;5;241m.\u001b[39mframe \u001b[38;5;241m=\u001b[39m frame\n\u001b[1;32m     61\u001b[0m     \u001b[38;5;28mself\u001b[39m\u001b[38;5;241m.\u001b[39mnames \u001b[38;5;241m=\u001b[39m names\n",
      "File \u001b[0;32m~/.conda/envs/py38/lib/python3.8/site-packages/seaborn/_core/data.py:232\u001b[0m, in \u001b[0;36mPlotData._assign_variables\u001b[0;34m(self, data, variables)\u001b[0m\n\u001b[1;32m    230\u001b[0m     \u001b[38;5;28;01melse\u001b[39;00m:\n\u001b[1;32m    231\u001b[0m         err \u001b[38;5;241m+\u001b[39m\u001b[38;5;241m=\u001b[39m \u001b[38;5;124m\"\u001b[39m\u001b[38;5;124mAn entry with this name does not appear in `data`.\u001b[39m\u001b[38;5;124m\"\u001b[39m\n\u001b[0;32m--> 232\u001b[0m     \u001b[38;5;28;01mraise\u001b[39;00m \u001b[38;5;167;01mValueError\u001b[39;00m(err)\n\u001b[1;32m    234\u001b[0m \u001b[38;5;28;01melse\u001b[39;00m:\n\u001b[1;32m    235\u001b[0m \n\u001b[1;32m    236\u001b[0m     \u001b[38;5;66;03m# Otherwise, assume the value somehow represents data\u001b[39;00m\n\u001b[1;32m    237\u001b[0m \n\u001b[1;32m    238\u001b[0m     \u001b[38;5;66;03m# Ignore empty data structures\u001b[39;00m\n\u001b[1;32m    239\u001b[0m     \u001b[38;5;28;01mif\u001b[39;00m \u001b[38;5;28misinstance\u001b[39m(val, Sized) \u001b[38;5;129;01mand\u001b[39;00m \u001b[38;5;28mlen\u001b[39m(val) \u001b[38;5;241m==\u001b[39m \u001b[38;5;241m0\u001b[39m:\n",
      "\u001b[0;31mValueError\u001b[0m: Could not interpret value `` for `x`. An entry with this name does not appear in `data`."
     ]
    },
    {
     "data": {
      "text/plain": [
       "<Figure size 800x600 with 0 Axes>"
      ]
     },
     "metadata": {},
     "output_type": "display_data"
    }
   ],
   "source": [
    "import seaborn as sns\n",
    "import pandas as pd\n",
    "import matplotlib.pyplot as plt\n",
    "\n",
    "# Example dataset\n",
    "data = {'Category': ['A', 'B', 'C', 'D'], 'Values': [10, 20, 15, 25]}\n",
    "#df = results[0]#\n",
    "df=pd.DataFrame(data)\n",
    "print(df)\n",
    "# Bar plot\n",
    "sns.set(style=\"whitegrid\")\n",
    "plt.figure(figsize=(8, 6))\n",
    "sns.barplot(x='', y='Category', data=df, palette='viridis')\n",
    "plt.title('Bar Plot')\n",
    "plt.show()\n",
    "\n",
    "sns.barplot(x='Metric', y='Value', data=data, palette='Blues_d')\n",
    "plt.title('Endpoint Count Visualization')\n",
    "plt.ylabel('Count')\n",
    "plt.xlabel('Metric')\n"
   ]
  },
  {
   "cell_type": "code",
   "execution_count": 56,
   "id": "0b2b03ff-9e5c-4311-876d-02d53803757d",
   "metadata": {},
   "outputs": [],
   "source": [
    "import pandas as pd\n",
    "import matplotlib.pyplot as plt\n",
    "import seaborn as sns\n",
    "##****important run this before run figure.show()\n",
    "import plotly.io as pio\n",
    "pio.renderers.default = 'iframe'\n",
    "import plotly.graph_objects as go\n",
    "\n"
   ]
  },
  {
   "cell_type": "code",
   "execution_count": 29,
   "id": "326ca196-b6a0-4317-8105-3c38795c0eb7",
   "metadata": {},
   "outputs": [],
   "source": []
  },
  {
   "cell_type": "code",
   "execution_count": 30,
   "id": "521f78d0-847e-41cb-9476-5dd5e48674fc",
   "metadata": {},
   "outputs": [
    {
     "data": {
      "text/html": [
       "<iframe\n",
       "    scrolling=\"no\"\n",
       "    width=\"100%\"\n",
       "    height=\"545px\"\n",
       "    src=\"iframe_figures/figure_30.html\"\n",
       "    frameborder=\"0\"\n",
       "    allowfullscreen\n",
       "></iframe>\n"
      ]
     },
     "metadata": {},
     "output_type": "display_data"
    }
   ],
   "source": [
    "import pandas as pd\n",
    "#import plotly.graph_objects as go\n",
    "\n",
    "# Recreate the dataset\n",
    "data = pd.DataFrame({'ArtistId': [90], 'Name': ['Iron Maiden'], 'PlaylistCount': [516]})\n",
    "\n",
    "# Extract and render the Plotly Figure\n",
    "figure = go.Figure(\n",
    "    data=[\n",
    "        go.Scatter(\n",
    "            x=data['ArtistId'],\n",
    "            y=data['PlaylistCount'],\n",
    "            mode='markers',\n",
    "            marker=dict(color='#636efa', symbol='circle'),\n",
    "            hovertemplate='ArtistId=%{x}<br>PlaylistCount=%{y}<extra></extra>'\n",
    "        )\n",
    "    ],\n",
    "    layout=dict(\n",
    "        xaxis=dict(title='ArtistId'),\n",
    "        yaxis=dict(title='PlaylistCount'),\n",
    "        margin=dict(t=60),\n",
    "        template='plotly'\n",
    "    )\n",
    ")\n",
    "\n",
    "# Display the figure\n",
    "figure.show()\n"
   ]
  },
  {
   "cell_type": "code",
   "execution_count": 31,
   "id": "96ed9ab8-19a6-4540-9aa9-4bff0a3e6f98",
   "metadata": {},
   "outputs": [],
   "source": [
    "import pandas as pd\n",
    "import plotly.graph_objects as go\n"
   ]
  },
  {
   "cell_type": "code",
   "execution_count": 32,
   "id": "3cfb39c6-c871-4cd7-add7-d9634a1a9405",
   "metadata": {},
   "outputs": [
    {
     "data": {
      "text/html": [
       "<iframe\n",
       "    scrolling=\"no\"\n",
       "    width=\"100%\"\n",
       "    height=\"545px\"\n",
       "    src=\"iframe_figures/figure_32.html\"\n",
       "    frameborder=\"0\"\n",
       "    allowfullscreen\n",
       "></iframe>\n"
      ]
     },
     "metadata": {},
     "output_type": "display_data"
    }
   ],
   "source": [
    "# Recreate the dataset\n",
    "data = pd.DataFrame({'ArtistId': [90], 'Name': ['Iron Maiden'], 'PlaylistCount': [516]})\n",
    "\n",
    "# Extract and render the Plotly Figure\n",
    "figure = go.Figure(\n",
    "    data=[\n",
    "        go.Scatter(\n",
    "            x=data['ArtistId'],\n",
    "            y=data['PlaylistCount'],\n",
    "            mode='markers',\n",
    "            marker=dict(color='#636efa', symbol='circle'),\n",
    "            hovertemplate='ArtistId=%{x}<br>PlaylistCount=%{y}<extra></extra>'\n",
    "        )\n",
    "    ],\n",
    "    layout=dict(\n",
    "        xaxis=dict(title='ArtistId'),\n",
    "        yaxis=dict(title='PlaylistCount'),\n",
    "        margin=dict(t=60),\n",
    "        template='plotly'\n",
    "    )\n",
    ")\n",
    "# Display the figure\n",
    "figure.show()"
   ]
  },
  {
   "cell_type": "code",
   "execution_count": 33,
   "id": "6c130436-b4ad-402b-912a-328d1ac656f3",
   "metadata": {},
   "outputs": [
    {
     "data": {
      "text/html": [
       "<iframe\n",
       "    scrolling=\"no\"\n",
       "    width=\"100%\"\n",
       "    height=\"545px\"\n",
       "    src=\"iframe_figures/figure_33.html\"\n",
       "    frameborder=\"0\"\n",
       "    allowfullscreen\n",
       "></iframe>\n"
      ]
     },
     "metadata": {},
     "output_type": "display_data"
    }
   ],
   "source": [
    "#Test plot code\n",
    "import plotly.graph_objects as go\n",
    "\n",
    "# Example plot\n",
    "fig = go.Figure(\n",
    "    data=[go.Scatter(x=[1, 2, 3], y=[10, 20, 30], mode='lines')],\n",
    "    layout=dict(title=\"Test Plot\")\n",
    ")\n",
    "fig.show()\n"
   ]
  },
  {
   "cell_type": "code",
   "execution_count": 35,
   "id": "99f57566-7177-4b95-925a-32ee74404991",
   "metadata": {},
   "outputs": [
    {
     "data": {
      "text/html": [
       "<iframe\n",
       "    scrolling=\"no\"\n",
       "    width=\"100%\"\n",
       "    height=\"545px\"\n",
       "    src=\"iframe_figures/figure_35.html\"\n",
       "    frameborder=\"0\"\n",
       "    allowfullscreen\n",
       "></iframe>\n"
      ]
     },
     "metadata": {},
     "output_type": "display_data"
    }
   ],
   "source": [
    "# Example dataset\n",
    "data = {'Category': ['A', 'B', 'C', 'D'], 'Values': [10, 20, 15, 25]}\n",
    "colors = ['#FF5733', '#33FF57', '#3357FF', '#F3FF33']\n",
    "fig = go.Figure(\n",
    "    data=[\n",
    "        go.Bar(\n",
    "            x=data['Category'],  # Categories for x-axis\n",
    "            y=data['Values'],    # Values for y-axis\n",
    "            name='Category Values',  # Legend name\n",
    "            #marker=dict(color='skyblue')  # Custom bar color\n",
    "            marker=dict(color=colors)\n",
    "        )\n",
    "    ],\n",
    "    layout=go.Layout(\n",
    "        title=\"Category vs. Values\",  # Title of the chart\n",
    "        xaxis=dict(title=\"Category\"),  # X-axis title\n",
    "        yaxis=dict(title=\"Values\"),    # Y-axis title\n",
    "    )\n",
    ")\n",
    "\n",
    "fig.show()\n"
   ]
  },
  {
   "cell_type": "code",
   "execution_count": null,
   "id": "42878b93-36c7-4749-8afc-da2a273cfd68",
   "metadata": {},
   "outputs": [],
   "source": []
  },
  {
   "cell_type": "code",
   "execution_count": 39,
   "id": "a1c6479a-85a2-448d-bd71-ca446ed5c994",
   "metadata": {},
   "outputs": [],
   "source": []
  },
  {
   "cell_type": "code",
   "execution_count": 45,
   "id": "13370fb0-a76a-4f45-a1ca-971842096a96",
   "metadata": {},
   "outputs": [
    {
     "data": {
      "text/html": [
       "<iframe\n",
       "    scrolling=\"no\"\n",
       "    width=\"100%\"\n",
       "    height=\"545px\"\n",
       "    src=\"iframe_figures/figure_45.html\"\n",
       "    frameborder=\"0\"\n",
       "    allowfullscreen\n",
       "></iframe>\n"
      ]
     },
     "metadata": {},
     "output_type": "display_data"
    }
   ],
   "source": [
    "import numpy as np\n",
    "\n",
    " \n",
    "fig = go.Figure({\n",
    "     'data': [{'domain': {'x': [0.0, 1.0], 'y': [0.0, 1.0]},\n",
    "               'hovertemplate': 'Genre=%{label}<br>TotalTracks=%{value}<extra></extra>',\n",
    "               'labels': np.array(['Alternative', 'Alternative & Punk', 'Blues', 'Bossa Nova', 'Classical',\n",
    "                                'Comedy', 'Drama', 'Easy Listening', 'Electronica/Dance', 'Heavy Metal',\n",
    "                                'Hip Hop/Rap', 'Jazz', 'Latin', 'Metal', 'Opera', 'Pop', 'R&B/Soul',\n",
    "                                'Reggae', 'Rock', 'Rock And Roll', 'Sci Fi & Fantasy',\n",
    "                                'Science Fiction', 'Soundtrack', 'TV Shows', 'World'], dtype=object),\n",
    "               'legendgroup': '',\n",
    "               'name': '',\n",
    "               'showlegend': True,\n",
    "               'type': 'pie',\n",
    "               'values': np.array([  40,  332,   81,   15,   74,   17,   64,   24,   30,   28,   35,  130,\n",
    "                                 579,  374,    1,   48,   61,   58, 1297,   12,   26,   13,   43,   93,\n",
    "                                  28])}],\n",
    "     'layout': {'legend': {'tracegroupgap': 0}, 'template': 'plotly', 'title': {'text': 'Distribution of Genre in the Track'}}\n",
    " })\n",
    "fig.show()"
   ]
  },
  {
   "cell_type": "code",
   "execution_count": null,
   "id": "8044492d-e3bb-494f-902d-43be70c403ec",
   "metadata": {},
   "outputs": [],
   "source": []
  },
  {
   "cell_type": "code",
   "execution_count": 58,
   "id": "7eb67f10-488b-414b-bcf5-f1366db2e935",
   "metadata": {},
   "outputs": [
    {
     "data": {
      "text/html": [
       "<iframe\n",
       "    scrolling=\"no\"\n",
       "    width=\"100%\"\n",
       "    height=\"545px\"\n",
       "    src=\"iframe_figures/figure_58.html\"\n",
       "    frameborder=\"0\"\n",
       "    allowfullscreen\n",
       "></iframe>\n"
      ]
     },
     "metadata": {},
     "output_type": "display_data"
    }
   ],
   "source": [
    " \n",
    "\n",
    "fig = go.Figure({\n",
    "     'data': [{'hovertemplate': 'ArtistId=%{x}<br>PlaylistCount=%{y}<extra></extra>',\n",
    "               'legendgroup': '',\n",
    "               'marker': {'color': '#636efa', 'symbol': 'circle'},\n",
    "               'mode': 'markers',\n",
    "               'name': '',\n",
    "               'orientation': 'v',\n",
    "               'showlegend': False,\n",
    "               'type': 'scatter',\n",
    "               'x': np.array([90]),\n",
    "               'xaxis': 'x',\n",
    "               'y': np.array([516]),\n",
    "               'yaxis': 'y'}],\n",
    "     'layout': {'legend': {'tracegroupgap': 0},\n",
    "                'margin': {'t': 60},\n",
    "                'template': 'plotly',\n",
    "                'xaxis': {'anchor': 'y', 'domain': [0.0, 1.0], 'title': {'text': 'ArtistId'}},\n",
    "                'yaxis': {'anchor': 'x', 'domain': [0.0, 1.0], 'title': {'text': 'PlaylistCount'}}}\n",
    " })\n",
    "\n",
    "fig.show()\n",
    "#'ggplot2', 'seaborn', 'simple_white', 'plotly', 'plotly_white'"
   ]
  },
  {
   "cell_type": "code",
   "execution_count": null,
   "id": "b09e8897-6631-4a04-9ba7-bc7fa58accd9",
   "metadata": {},
   "outputs": [],
   "source": []
  }
 ],
 "metadata": {
  "kernelspec": {
   "display_name": "Python (py38)",
   "language": "python",
   "name": "py38"
  },
  "language_info": {
   "codemirror_mode": {
    "name": "ipython",
    "version": 3
   },
   "file_extension": ".py",
   "mimetype": "text/x-python",
   "name": "python",
   "nbconvert_exporter": "python",
   "pygments_lexer": "ipython3",
   "version": "3.8.20"
  }
 },
 "nbformat": 4,
 "nbformat_minor": 5
}
