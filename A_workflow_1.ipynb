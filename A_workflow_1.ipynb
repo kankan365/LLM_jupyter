{
 "cells": [
  {
   "cell_type": "code",
   "execution_count": 1,
   "id": "a55f0e3b-0ed1-4fe9-8008-99a90ee8ffb9",
   "metadata": {},
   "outputs": [],
   "source": [
    "import sys\n",
    "sys.path.append('./python_modules')\n",
    "\n",
    "import importlib"
   ]
  },
  {
   "cell_type": "code",
   "execution_count": 2,
   "id": "269b5ce9-49ce-4030-830e-f97edc0580ca",
   "metadata": {},
   "outputs": [
    {
     "name": "stdout",
     "output_type": "stream",
     "text": [
      "version : azure\n",
      "azure_endpoint : https://litellm.toxpipe.niehs.nih.gov\n",
      "API_KEY : sk-dSTROKbqfoD8L2WDNDhwXA\n",
      "engin: azure-gpt-4o\n",
      "model_name: azure-gpt-4\n",
      "API version: 2023-05-15\n",
      "engin:azure-gpt-4o\n"
     ]
    }
   ],
   "source": [
    "import init\n",
    "\n",
    "print(f\"engin:{init.engin}\")"
   ]
  },
  {
   "cell_type": "code",
   "execution_count": 3,
   "id": "91db8f44-b23f-44ae-b5c2-fbc4162836f3",
   "metadata": {},
   "outputs": [
    {
     "data": {
      "text/plain": [
       "'Hello, Good morning!'"
      ]
     },
     "execution_count": 3,
     "metadata": {},
     "output_type": "execute_result"
    }
   ],
   "source": [
    "from plot_module import greet\n",
    "greet('Good morning')\n",
    " "
   ]
  },
  {
   "cell_type": "code",
   "execution_count": 4,
   "id": "d9ff0371-f2a8-487a-b97a-b5ef672289d4",
   "metadata": {},
   "outputs": [],
   "source": [
    "from llama_index.legacy.multi_modal_llms.azure_openai import AzureOpenAIMultiModal\n",
    "from llama_index.core import SimpleDirectoryReader, StorageContext"
   ]
  },
  {
   "cell_type": "code",
   "execution_count": null,
   "id": "d2d94fdb-d866-46f6-950a-dd878fd044e4",
   "metadata": {},
   "outputs": [],
   "source": []
  },
  {
   "cell_type": "code",
   "execution_count": 5,
   "id": "db18fd20-61e8-49ad-a907-2e1a068c0e79",
   "metadata": {},
   "outputs": [],
   "source": [
    "file_path=\"./sql_files\""
   ]
  },
  {
   "cell_type": "code",
   "execution_count": 6,
   "id": "39f74019-7994-451a-a63f-d272e954c90a",
   "metadata": {},
   "outputs": [
    {
     "name": "stdout",
     "output_type": "stream",
     "text": [
      "2\n"
     ]
    }
   ],
   "source": [
    "documents = SimpleDirectoryReader(file_path).load_data()\n",
    "print(len(documents))\n",
    "from llama_index.core import Document, VectorStoreIndex\n",
    "\n",
    "index = VectorStoreIndex.from_documents(documents)"
   ]
  },
  {
   "cell_type": "code",
   "execution_count": 7,
   "id": "183cc1a5-11ff-476d-93ed-c99c5846b6b1",
   "metadata": {},
   "outputs": [],
   "source": [
    "import openai\n",
    "\n",
    "client = openai.OpenAI(\n",
    "    api_key=init.api_key,#api_key, # Format should be 'sk-<your_key>'\n",
    "    base_url=init.azure_endpoint #\"http://litellm.toxpipe.niehs.nih.gov\" # LiteLLM Proxy is OpenAI compatible, Read More: https://docs.litellm.ai/docs/proxy/user_keys\n",
    ")\n",
    "\n",
    "response = client.chat.completions.create(\n",
    "    model=init.engin,#\"azure-gpt-4o\", # model to send to the proxy\n",
    "    messages = [\n",
    "        {\n",
    "            \"role\": \"user\",\n",
    "            #\"content\": \"this is a test request, write a short poem\"\n",
    "             \"content\": f\"Summarize the following text:\\n {documents}\",\n",
    "        }\n",
    "    ]\n",
    ")\n",
    "\n",
    "#print(response.choices[0].message.content)\n",
    "#print(response)"
   ]
  },
  {
   "cell_type": "code",
   "execution_count": 8,
   "id": "1d03c300-4460-41d8-8695-0133fbea7b5f",
   "metadata": {},
   "outputs": [
    {
     "name": "stdout",
     "output_type": "stream",
     "text": [
      "The text contains the definitions for several SQL table creation statements related to an experimental data management system. The tables are designed for organizing data from various devices, chemicals, sources, and phases in an experimental setup. The tables defined are:\n",
      "\n",
      "1. `devices_data`: Stores device-related data including IDs and properties of devices.\n",
      "2. `endpoints`: Contains endpoint information such as names and descriptions.\n",
      "3. `endpoint_data`: Records endpoint data linked to devices and endpoints.\n",
      "4. `sources`: Catalogs sources with unique codes and names.\n",
      "5. `chemicals`: Maintains chemical data including identifiers like CASRN and preferred names.\n",
      "6. `well_types`: Defines types of wells with descriptions.\n",
      "7. `plates`: Information on experimental plates, including timestamps and stages, linked to sources.\n",
      "8. `bins`: Contains bin ranges.\n",
      "9. `phases`: Details phases with codes and stages, linked to sources.\n",
      "10. `phase_bins`: Associates phases with bins.\n",
      "11. `devtox_data`: Developmental toxicity data including chemicals and well information, concentration, validity, and mortality statistics.\n",
      "12. `behavior_data`: Behavior-related data during experiments including distance moved and time endpoints, linked to devtox data, phases, and bins.\n",
      "\n",
      "The document also includes basic metadata information.\n"
     ]
    }
   ],
   "source": [
    "print(response.choices[0].message.content)"
   ]
  },
  {
   "cell_type": "markdown",
   "id": "5ae6e82b-3535-415c-b999-6de9792a9bfd",
   "metadata": {},
   "source": [
    "## Set method for the chatbot"
   ]
  },
  {
   "cell_type": "code",
   "execution_count": 64,
   "id": "ebc07b5c-9d74-4e53-aa06-f233c134be5b",
   "metadata": {},
   "outputs": [],
   "source": [
    "def describe (question):\n",
    "    response = client.chat.completions.create(\n",
    "    model=\"azure-gpt-4o\", # model to send to the proxy\n",
    "    messages = [\n",
    "        {\n",
    "            \"role\": \"user\",\n",
    "            #\"content\": \"this is a test request, write a short poem\"\n",
    "             \"content\": f\"{question}:\\n {documents}\",\n",
    "             #\"content\": f\"Summarize the following text:\\n {documents}\",\n",
    "            \n",
    "        }\n",
    "    ]\n",
    ")\n",
    "    return response.choices[0].message.content\n",
    " "
   ]
  },
  {
   "cell_type": "code",
   "execution_count": 70,
   "id": "fd178394-31c7-4b02-bf6c-19bca98621aa",
   "metadata": {},
   "outputs": [
    {
     "name": "stdout",
     "output_type": "stream",
     "text": [
      "Running on local URL:  http://127.0.0.1:7863\n",
      "Running on public URL: https://7d27a523054797a6b1.gradio.live\n",
      "\n",
      "This share link expires in 72 hours. For free permanent hosting and GPU upgrades, run `gradio deploy` from Terminal to deploy to Spaces (https://huggingface.co/spaces)\n"
     ]
    },
    {
     "data": {
      "text/html": [
       "<div><iframe src=\"https://7d27a523054797a6b1.gradio.live\" width=\"100%\" height=\"500\" allow=\"autoplay; camera; microphone; clipboard-read; clipboard-write;\" frameborder=\"0\" allowfullscreen></iframe></div>"
      ],
      "text/plain": [
       "<IPython.core.display.HTML object>"
      ]
     },
     "metadata": {},
     "output_type": "display_data"
    }
   ],
   "source": [
    "import gradio as gr \n",
    "def greet(name): return \"Hello \" + name + \"!\" \n",
    "def prediction (question): \n",
    "    answer = describe (question)\n",
    "    return answer\n",
    "\n",
    "#demo = gr.Interface(fn=prediction, inputs=\"textbox\", outputs=\"textbox\") \n",
    "demo = gr.Interface( fn=prediction,     \n",
    "    inputs=gr.Textbox(lines=5, placeholder=\"Type your question here...\"),  # Input textbox with 5 lines\n",
    "    outputs=gr.Textbox(label=\"Answer\", lines=4)  # Output textbox with 4 lines\n",
    ")\n",
    "\n",
    "\n",
    "if __name__ == \"__main__\": \n",
    "    demo.launch(share=True)"
   ]
  },
  {
   "cell_type": "code",
   "execution_count": null,
   "id": "23b58677-9156-4e2e-b770-0ae0db5709b6",
   "metadata": {},
   "outputs": [],
   "source": []
  },
  {
   "cell_type": "code",
   "execution_count": 9,
   "id": "76de18bd-39c0-464b-92e1-5de648710efe",
   "metadata": {},
   "outputs": [],
   "source": [
    "from plot_module import greet\n",
    "from plot_module import parse_sqls\n",
    "from plot_module import exec_query\n",
    "from plot_module import exec_query_test\n"
   ]
  },
  {
   "cell_type": "code",
   "execution_count": 10,
   "id": "5459b5cc-38cc-4236-ab05-bdf1ef9a6350",
   "metadata": {},
   "outputs": [],
   "source": [
    "answer=\"\"\"To determine the number of endpoints in the `endpoints` table, you can use an SQL query. \n",
    "\n",
    "Here is the SQL query you would need to execute on your database:\n",
    "\n",
    "```SQL\n",
    "SELECT COUNT(*) as num_endpoints FROM endpoints;\n",
    "```\n",
    "\n",
    "Assuming you have executed the above query and obtained the result in a Pandas DataFrame named `df`, you can use Seaborn, Pandas, and Matplotlib to create a plot to visualize the result.\n",
    "\n",
    "Let's proceed with the code to achieve this:\n",
    "\n",
    "1. **Running the SQL query and fetching the result into a Pandas DataFrame:**\n",
    "\n",
    "```python\n",
    "import sqlite3\n",
    "import pandas as pd\n",
    "\n",
    "# Connect to your database\n",
    "conn = sqlite3.connect('your_database.db')\n",
    "\n",
    "# Execute the SQL query\n",
    "query = \"SELECT COUNT(*) as num_endpoints FROM endpoints;\"\n",
    "df = pd.read_sql_query(query, conn)\n",
    "\n",
    "# Close the connection\n",
    "conn.close()\n",
    "```\n",
    "\n",
    "2. **Visualizing the result using Seaborn, Pandas, and Matplotlib:**\n",
    "\n",
    "```python\n",
    "import matplotlib.pyplot as plt\n",
    "import seaborn as sns\n",
    "\n",
    "# Assuming df contains the result of our query\n",
    "# {\n",
    "#   'num_endpoints': [10]   # Example data\n",
    "# }\n",
    "\n",
    "# Convert the query result into a more appropriate form for plotting if needed\n",
    "df_melted = pd.melt(df, var_name=\"Metric\", value_name=\"Value\")\n",
    "\n",
    "# Plotting using Seaborn and Matplotlib\n",
    "plt.figure(figsize=(8, 6))\n",
    "sns.barplot(x=\"Metric\", y=\"Value\", data=df_melted)\n",
    "plt.title(\"Number of Endpoints in the Database\")\n",
    "plt.xlabel(\"Metric\")\n",
    "plt.ylabel(\"Count\")\n",
    "plt.show()\n",
    "```\n",
    "\n",
    "This code does the following:\n",
    "1. Connects to your SQLite database (you would need to replace `'your_database.db'` with the actual path to your database file).\n",
    "2. Executes the SQL query to count the number of endpoints.\n",
    "3. Closes the database connection.\n",
    "4. Uses Seaborn and Matplotlib to create a bar plot showing the number of endpoints in the database.\n",
    "\n",
    "If your DataFrame `df` contains additional rows or more complex results that you need to plot, you may need to modify the visualization code accordingly. However, for the given task of plotting the count of endpoints, this should be sufficient.\"\"\""
   ]
  },
  {
   "cell_type": "code",
   "execution_count": 11,
   "id": "708bf79a-d1e8-46e9-b554-c73660f13e6b",
   "metadata": {},
   "outputs": [],
   "source": [
    "answer=\"\"\"The SQL code you're requesting is for counting the number of endpoints in the `endpoints` table. Here's how you can achieve that:\n",
    "\n",
    "```sql\n",
    "SELECT COUNT(*) AS endpoint_count FROM endpoints;\n",
    "```\n",
    "\n",
    "Now, let's say you executed the above SQL query and got the result in a Pandas DataFrame named `df`. We will use this DataFrame to create a bar plot representing the count using Seaborn, Pandas, and Matplotlib.pyplot.\n",
    "\n",
    "Here’s how you can write the Python code to display the plot:\n",
    "\n",
    "```python\n",
    "import pandas as pd\n",
    "import seaborn as sns\n",
    "import matplotlib.pyplot as plt\n",
    "\n",
    "# Sample DataFrame that mimics the query result\n",
    "data = {'endpoint_count': [50]} # Assuming the count of endpoints is 50\n",
    "df = pd.DataFrame(data)\n",
    "\n",
    "# Create a bar plot\n",
    "sns.barplot(x=df.index, y='endpoint_count', data=df)\n",
    "plt.ylabel('Number of Endpoints')\n",
    "plt.xlabel('')\n",
    "plt.title('Endpoint Count in the Database')\n",
    "plt.show()\n",
    "```\n",
    "\n",
    "In this code:\n",
    "- We create a sample DataFrame `df` with the result of the SQL query.\n",
    "- We use the `sns.barplot` function from Seaborn to create a bar plot.\n",
    "- We label the y-axis with 'Number of Endpoints'.\n",
    "- We set an empty label for the x-axis, as there's only one bar representing the count.\n",
    "- We give the plot a title 'Endpoint Count in the Database'.\n",
    "- We use `plt.show()` to display the plot.\n",
    "\n",
    "This approach assumes you run the SQL query and obtain the result in a DataFrame which you can pass to the plotting functions.\"\"\""
   ]
  },
  {
   "cell_type": "markdown",
   "id": "c6a908dd-7779-4000-80e3-8efeb536bc47",
   "metadata": {},
   "source": [
    "## load database data"
   ]
  },
  {
   "cell_type": "code",
   "execution_count": 12,
   "id": "a2134d73-549f-4ac0-9758-4cdfb2b796b0",
   "metadata": {},
   "outputs": [
    {
     "name": "stdout",
     "output_type": "stream",
     "text": [
      "Column Names: RMKeyView(['source_name', 'source_code'])\n",
      "Data: [('biobide', 'a'), ('nrc', 'b'), ('osu', 'c'), ('zeclinics', 'd')]\n",
      "  source_name source_code\n",
      "0     biobide           a\n",
      "1         nrc           b\n",
      "2         osu           c\n",
      "3   zeclinics           d\n"
     ]
    }
   ],
   "source": [
    "from sqlalchemy import text\n",
    "from langchain_community.utilities import SQLDatabase\n",
    "import pandas as pd\n",
    "\n",
    "# Initialize the database\n",
    "db_url = './data/vanna_zebrafish/OECD_ZF_LDTT.sqlite'\n",
    "db = SQLDatabase.from_uri(f'sqlite:///{db_url}')\n",
    "\n",
    "# Use the underlying SQLAlchemy engine\n",
    "query = \"SELECT source_name, source_code FROM sources;\"\n",
    "with db._engine.connect() as connection:  # Access the private _engine attribute\n",
    "    result_proxy = connection.execute(text(query))  # Wrap query with `text`\n",
    "    column_names = result_proxy.keys()  # Get column names\n",
    "    data = result_proxy.fetchall()  # Get all rows\n",
    "\n",
    "# Print results\n",
    "print(\"Column Names:\", column_names)\n",
    "print(\"Data:\", data)\n",
    "\n",
    "# Convert to a Pandas DataFrame\n",
    "df = pd.DataFrame(data, columns=column_names)\n",
    "print(df)\n"
   ]
  },
  {
   "cell_type": "code",
   "execution_count": 13,
   "id": "49cc147f-87a6-410d-b1ef-d8bb78e07b8f",
   "metadata": {},
   "outputs": [
    {
     "name": "stdout",
     "output_type": "stream",
     "text": [
      "xxxQuery 1:\n",
      "SELECT COUNT(*) AS endpoint_count FROM endpoints;\n",
      "\n"
     ]
    }
   ],
   "source": [
    "llm_output=answer\n",
    "#print(parse_sqls(llm_output))#llm_output\n",
    "parsed_queries = parse_sqls(llm_output)\n",
    "#Output the parsed queries\n",
    "#for i, query in enumerate(parsed_queries, start=1): \n",
    "    #print(f\"Query {i}:\\n{query}\\n\")\n",
    "#exec_query_test(parsed_queries,db)"
   ]
  },
  {
   "cell_type": "code",
   "execution_count": 14,
   "id": "7714f9d1-3fca-4f80-beb5-cf473d641d59",
   "metadata": {},
   "outputs": [
    {
     "name": "stdout",
     "output_type": "stream",
     "text": [
      "The SQL code you're requesting is for counting the number of endpoints in the `endpoints` table. Here's how you can achieve that:\n",
      "\n",
      "```sql\n",
      "SELECT COUNT(*) AS endpoint_count FROM endpoints;\n",
      "```\n",
      "\n",
      "Now, let's say you executed the above SQL query and got the result in a Pandas DataFrame named `df`. We will use this DataFrame to create a bar plot representing the count using Seaborn, Pandas, and Matplotlib.pyplot.\n",
      "\n",
      "Here’s how you can write the Python code to display the plot:\n",
      "\n",
      "```python\n",
      "import pandas as pd\n",
      "import seaborn as sns\n",
      "import matplotlib.pyplot as plt\n",
      "\n",
      "# Sample DataFrame that mimics the query result\n",
      "data = {'endpoint_count': [50]} # Assuming the count of endpoints is 50\n",
      "df = pd.DataFrame(data)\n",
      "\n",
      "# Create a bar plot\n",
      "sns.barplot(x=df.index, y='endpoint_count', data=df)\n",
      "plt.ylabel('Number of Endpoints')\n",
      "plt.xlabel('')\n",
      "plt.title('Endpoint Count in the Database')\n",
      "plt.show()\n",
      "```\n",
      "\n",
      "In this code:\n",
      "- We create a sample DataFrame `df` with the result of the SQL query.\n",
      "- We use the `sns.barplot` function from Seaborn to create a bar plot.\n",
      "- We label the y-axis with 'Number of Endpoints'.\n",
      "- We set an empty label for the x-axis, as there's only one bar representing the count.\n",
      "- We give the plot a title 'Endpoint Count in the Database'.\n",
      "- We use `plt.show()` to display the plot.\n",
      "\n",
      "This approach assumes you run the SQL query and obtain the result in a DataFrame which you can pass to the plotting functions.\n"
     ]
    }
   ],
   "source": [
    "import re\n",
    "print(llm_output)\n",
    "#sql_queries = re.findall(r\"```SQL(.*?)```\", llm_output, re.DOTALL | re.IGNORECASE)\n",
    "#sql_queries = re.findall(r\"```sql(.*?)```\", llm_output, re.DOTALL | re.IGNORECASE)\n",
    "sql_queries = re.findall(r\"(?:sql|SQL)(.*?)\", llm_output, re.DOTALL)"
   ]
  },
  {
   "cell_type": "code",
   "execution_count": 15,
   "id": "97f95667-5c56-4a42-b17b-dbace4da1b51",
   "metadata": {},
   "outputs": [
    {
     "name": "stdout",
     "output_type": "stream",
     "text": [
      "['SELECT COUNT(*) AS endpoint_count FROM endpoints;']\n"
     ]
    }
   ],
   "source": [
    "print(parsed_queries)"
   ]
  },
  {
   "cell_type": "code",
   "execution_count": 16,
   "id": "282232cf-7ff1-44bd-bb7a-88afa10e4e55",
   "metadata": {},
   "outputs": [
    {
     "name": "stdout",
     "output_type": "stream",
     "text": [
      "SELECT COUNT(*) AS endpoint_count FROM endpoints;\n",
      "exec query 1 : SELECT COUNT(*) AS endpoint_count FROM endpoints;\n",
      "Column Names: RMKeyView(['endpoint_count'])\n",
      "Data: [(24,)]\n",
      "column lenth : 1\n"
     ]
    }
   ],
   "source": [
    "results = []\n",
    "results = exec_query(parsed_queries,db)"
   ]
  },
  {
   "cell_type": "markdown",
   "id": "75936578-e193-4a33-a8d4-7e537505a481",
   "metadata": {},
   "source": [
    "## How to plot based on the returned data"
   ]
  },
  {
   "cell_type": "code",
   "execution_count": 71,
   "id": "ec9051fb-e867-4e03-bc54-2dcc9ab25087",
   "metadata": {},
   "outputs": [
    {
     "name": "stdout",
     "output_type": "stream",
     "text": [
      "[   endpoint_count\n",
      "0              24]\n"
     ]
    }
   ],
   "source": [
    "print(results)"
   ]
  },
  {
   "cell_type": "code",
   "execution_count": 79,
   "id": "6829580e-c0a7-40a7-8d1e-47db8156e5cf",
   "metadata": {},
   "outputs": [],
   "source": [
    "def draw_plot (question,data):\n",
    "    response = client.chat.completions.create(\n",
    "    model=\"azure-gpt-4o\", # model to send to the proxy\n",
    "    messages = [\n",
    "        {\n",
    "            \"role\": \"user\",\n",
    "            #\"content\": \"this is a test request, write a short poem\"\n",
    "             \"content\": f\"{question}:\\n use this data to generate the code {data}\",\n",
    "             #\"content\": f\"Summarize the following text:\\n {documents}\",\n",
    "            \n",
    "        }\n",
    "    ]\n",
    ")\n",
    "    return response.choices[0].message.content"
   ]
  },
  {
   "cell_type": "markdown",
   "id": "c84477d2-ee46-45f4-9de1-d0fe04444073",
   "metadata": {},
   "source": [
    "plot_prompt1 = \"\"\"I have a dataset and want to generate Plotly visualization code based on the data I passed in. The dataset is represented as a Pandas DataFrame.\n",
    "\n",
    "This is a example code:\n",
    "```python\n",
    "data = pd.DataFrame({'ArtistId': [90], 'Name': ['Iron Maiden'], 'PlaylistCount': [516]})\n",
    "\n",
    "Here are the requirements:\n",
    "\n",
    "Use the provided dataset (data) to create a Plotly figure.\n",
    "Use the go.Scatter trace type.\n",
    "The x-axis should be ArtistId, and the y-axis should be PlaylistCount.\n",
    "Include a hover template displaying the ArtistId and PlaylistCount values.\n",
    "Set a custom marker color and symbol (e.g., blue circle).\n",
    "Include x-axis and y-axis titles in the layout.\n",
    "Use the Plotly template='plotly' for styling.\n",
    "Output the Python code in the following format:\n",
    "\n",
    "data = pd.DataFrame({...})  # Example dataset\n",
    "\n",
    "# Create the Plotly Figure\n",
    "figure = go.Figure(\n",
    "    data=[\n",
    "        go.Scatter(\n",
    "            x=data['ArtistId'],\n",
    "            y=data['PlaylistCount'],\n",
    "            mode='markers',\n",
    "            marker=dict(color='#636efa', symbol='circle'),\n",
    "            hovertemplate='ArtistId=%{x}<br>PlaylistCount=%{y}<extra></extra>'\n",
    "        )\n",
    "    ],\n",
    "    layout=dict(\n",
    "        xaxis=dict(title='ArtistId'),\n",
    "        yaxis=dict(title='PlaylistCount'),\n",
    "        margin=dict(t=60),\n",
    "        template='plotly'\n",
    "    )\n",
    ")\n",
    "\n",
    "\"\"\"\n"
   ]
  },
  {
   "cell_type": "code",
   "execution_count": 84,
   "id": "0cea5008-b6a2-4c26-a2fb-9c0f655203e2",
   "metadata": {},
   "outputs": [],
   "source": [
    "plot_prompt = \"\"\"I have a dataset and want to generate Plotly visualization code based on the data I passed in. The dataset is represented as a Pandas DataFrame.\n",
    "\n",
    "Here are the requirements:\n",
    "\n",
    "Use the provided dataset (data) to create a Plotly figure.\n",
    "Use the go.Scatter trace type.\n",
    "The x-axis , the y-axis .\n",
    "Include a hover template displaying the x  and y values.\n",
    "Set a custom marker color and symbol (e.g., blue circle).\n",
    "Include x-axis and y-axis titles in the layout.\n",
    "Use the Plotly template='plotly' for styling.\n",
    "Output the Python code in the following format:\n",
    "\n",
    " \n",
    "```python \n",
    "data = pd.DataFrame({...})  # Example dataset\n",
    "\n",
    "# Create the Plotly Figure\n",
    "figure = go.Figure(\n",
    "    data=[\n",
    "        go.Scatter(\n",
    "             \n",
    "        )\n",
    "    ],\n",
    "    layout=dict(\n",
    "         \n",
    "        template='plotly'\n",
    "    )\n",
    ")\n",
    "figue.show()\n",
    "\"\"\"\n"
   ]
  },
  {
   "cell_type": "code",
   "execution_count": 85,
   "id": "bc67e8f6-e8e6-4c3a-a953-c3675a49769d",
   "metadata": {},
   "outputs": [
    {
     "data": {
      "text/plain": [
       "'Sure, here is the Python code to generate a Plotly visualization based on your requirements:\\n\\n```python\\nimport pandas as pd\\nimport plotly.graph_objects as go\\n\\ndata = pd.DataFrame({\\n    \\'endpoint_count\\': [24]\\n})  # Example dataset\\n\\n# Create the Plotly Figure\\nfigure = go.Figure(\\n    data=[\\n        go.Scatter(\\n            x=data.index,  # Assuming the index as x-axis\\n            y=data[\\'endpoint_count\\'],  # Data for the y-axis\\n            mode=\\'markers\\',\\n            marker=dict(\\n                color=\\'blue\\',\\n                symbol=\\'circle\\'\\n            ),\\n            hovertemplate=\\'x: %{x}<br>y: %{y}<extra></extra>\\'\\n        )\\n    ],\\n    layout=dict(\\n        xaxis=dict(title=\\'Index\\'),\\n        yaxis=dict(title=\\'Endpoint Count\\'),\\n        template=\\'plotly\\'\\n    )\\n)\\n\\nfigure.show()\\n```\\n\\nThis code does the following:\\n1. Creates a sample dataset `data` using Pandas.\\n2. Creates a Plotly Figure using `go.Figure`.\\n3. Adds a Scatter trace with a marker style (blue circles) and a hover template.\\n4. Sets the x-axis title as \"Index\" and the y-axis title as \"Endpoint Count\".\\n5. Applies the `plotly` template for styling.\\n6. Finally, it displays the figure using `figure.show()`.'"
      ]
     },
     "execution_count": 85,
     "metadata": {},
     "output_type": "execute_result"
    }
   ],
   "source": [
    "draw_plot(plot_prompt, results[0])"
   ]
  },
  {
   "cell_type": "code",
   "execution_count": 86,
   "id": "426aaeb2-8849-4b43-9e40-e219d860997a",
   "metadata": {},
   "outputs": [
    {
     "data": {
      "text/html": [
       "<iframe\n",
       "    scrolling=\"no\"\n",
       "    width=\"100%\"\n",
       "    height=\"545px\"\n",
       "    src=\"iframe_figures/figure_86.html\"\n",
       "    frameborder=\"0\"\n",
       "    allowfullscreen\n",
       "></iframe>\n"
      ]
     },
     "metadata": {},
     "output_type": "display_data"
    }
   ],
   "source": [
    "import pandas as pd\n",
    "import plotly.graph_objects as go\n",
    "\n",
    "data = pd.DataFrame({\n",
    "    'endpoint_count': [24]\n",
    "})  # Example dataset\n",
    "\n",
    "# Create the Plotly Figure\n",
    "figure = go.Figure(\n",
    "    data=[\n",
    "        go.Scatter(\n",
    "            x=data.index,  # Assuming the index as x-axis\n",
    "            y=data['endpoint_count'],  # Data for the y-axis\n",
    "            mode='markers',\n",
    "            marker=dict(\n",
    "                color='blue',\n",
    "                symbol='circle'\n",
    "            ),\n",
    "            hovertemplate='x: %{x}<br>y: %{y}<extra></extra>'\n",
    "        )\n",
    "    ],\n",
    "    layout=dict(\n",
    "        xaxis=dict(title='Index'),\n",
    "        yaxis=dict(title='Endpoint Count'),\n",
    "        template='plotly'\n",
    "    )\n",
    ")\n",
    "\n",
    "figure.show()"
   ]
  },
  {
   "cell_type": "code",
   "execution_count": null,
   "id": "416109ce-19bf-4073-ae61-fd63982693a4",
   "metadata": {},
   "outputs": [],
   "source": []
  },
  {
   "cell_type": "code",
   "execution_count": null,
   "id": "7ded0231-4a3c-4608-bf31-f04c1313b605",
   "metadata": {},
   "outputs": [],
   "source": []
  },
  {
   "cell_type": "code",
   "execution_count": 76,
   "id": "3c2bc6f7-8479-4b23-89f9-3588c9637073",
   "metadata": {},
   "outputs": [
    {
     "data": {
      "text/html": [
       "<iframe\n",
       "    scrolling=\"no\"\n",
       "    width=\"100%\"\n",
       "    height=\"545px\"\n",
       "    src=\"iframe_figures/figure_76.html\"\n",
       "    frameborder=\"0\"\n",
       "    allowfullscreen\n",
       "></iframe>\n"
      ]
     },
     "metadata": {},
     "output_type": "display_data"
    }
   ],
   "source": [
    "\n",
    "import pandas as pd\n",
    "import plotly.graph_objects as go\n",
    "\n",
    "# Example dataset\n",
    "data = pd.DataFrame({'ArtistId': [90], 'Name': ['Iron Maiden'], 'PlaylistCount': [516]})\n",
    "\n",
    "# Create the Plotly Figure\n",
    "figure = go.Figure(\n",
    "    data=[\n",
    "        go.Scatter(\n",
    "            x=data['ArtistId'],\n",
    "            y=data['PlaylistCount'],\n",
    "            mode='markers',\n",
    "            marker=dict(color='#636efa', symbol='circle'),\n",
    "            hovertemplate='ArtistId=%{x}<br>PlaylistCount=%{y}<extra></extra>'\n",
    "        )\n",
    "    ],\n",
    "    layout=dict(\n",
    "        xaxis=dict(title='ArtistId'),\n",
    "        yaxis=dict(title='PlaylistCount'),\n",
    "        margin=dict(t=60),\n",
    "        template='plotly'\n",
    "    )\n",
    ")\n",
    "\n",
    "# Render the plot (this line would be used in a Jupyter notebook or equivalent environment)\n",
    "figure.show()"
   ]
  },
  {
   "cell_type": "code",
   "execution_count": null,
   "id": "02209d9e-46d8-440b-b492-538702104060",
   "metadata": {},
   "outputs": [],
   "source": []
  },
  {
   "cell_type": "code",
   "execution_count": null,
   "id": "a912a28e-fe94-4cfe-bf66-0086353cf362",
   "metadata": {},
   "outputs": [],
   "source": []
  },
  {
   "cell_type": "code",
   "execution_count": 17,
   "id": "e06f11f0-3cfd-46cb-9ae5-5d42a51ab65b",
   "metadata": {},
   "outputs": [
    {
     "name": "stdout",
     "output_type": "stream",
     "text": [
      "Results :    endpoint_count\n",
      "0              24\n"
     ]
    }
   ],
   "source": [
    "for i, result in enumerate(results, start=1):\n",
    "    print (F\"Results : {result}\")"
   ]
  },
  {
   "cell_type": "markdown",
   "id": "3f7de8bf-4bbc-42d8-b706-bcc60c703528",
   "metadata": {},
   "source": [
    "import seaborn as sns\n",
    "import matplotlib.pyplot as plt\n",
    "\n",
    "fig, ax = plt.subplots()\n",
    "ax.bar('Endpoints', results[0], color='blue')\n",
    "\n",
    "ax.set_xlabel('Table')\n",
    "ax.set_ylabel('Count')\n",
    "ax.set_title('Number of Endpoints in Database')\n",
    "\n",
    "# Show the plot\n",
    "plt.show()"
   ]
  },
  {
   "cell_type": "code",
   "execution_count": 18,
   "id": "e739ee0c-ba42-4600-962e-766e4e326cb5",
   "metadata": {},
   "outputs": [
    {
     "name": "stdout",
     "output_type": "stream",
     "text": [
      "<class 'pandas.core.frame.DataFrame'>\n"
     ]
    }
   ],
   "source": [
    "print(type(results[0]))"
   ]
  },
  {
   "cell_type": "markdown",
   "id": "65e33a8a-b73e-49c4-a791-a4e459997fd0",
   "metadata": {},
   "source": [
    "import altair as alt\n",
    "import pandas as pd\n",
    "\n",
    "# Example dataset\n",
    "#data = pd.DataFrame({'X': [1, 2, 3, 4, 5], 'Y': [10, 20, 15, 25, 30]})\n",
    "data = results[0]\n",
    "\n",
    "# Altair scatter plot\n",
    "chart = alt.Chart(data).mark_circle(size=100).encode(\n",
    "    x='X',\n",
    "    y='Y',\n",
    "    tooltip=['X', 'Y']\n",
    ").properties(title='Altair Scatter Plot')\n",
    "chart.display()"
   ]
  },
  {
   "cell_type": "code",
   "execution_count": 20,
   "id": "057e78cb-8626-400f-9449-973a96160aee",
   "metadata": {},
   "outputs": [
    {
     "name": "stdout",
     "output_type": "stream",
     "text": [
      "  Category  Values\n",
      "0        A      10\n",
      "1        B      20\n",
      "2        C      15\n",
      "3        D      25\n"
     ]
    },
    {
     "ename": "ValueError",
     "evalue": "Could not interpret value `` for `x`. An entry with this name does not appear in `data`.",
     "output_type": "error",
     "traceback": [
      "\u001b[0;31m---------------------------------------------------------------------------\u001b[0m",
      "\u001b[0;31mValueError\u001b[0m                                Traceback (most recent call last)",
      "Input \u001b[0;32mIn [20]\u001b[0m, in \u001b[0;36m<cell line: 13>\u001b[0;34m()\u001b[0m\n\u001b[1;32m     11\u001b[0m sns\u001b[38;5;241m.\u001b[39mset(style\u001b[38;5;241m=\u001b[39m\u001b[38;5;124m\"\u001b[39m\u001b[38;5;124mwhitegrid\u001b[39m\u001b[38;5;124m\"\u001b[39m)\n\u001b[1;32m     12\u001b[0m plt\u001b[38;5;241m.\u001b[39mfigure(figsize\u001b[38;5;241m=\u001b[39m(\u001b[38;5;241m8\u001b[39m, \u001b[38;5;241m6\u001b[39m))\n\u001b[0;32m---> 13\u001b[0m \u001b[43msns\u001b[49m\u001b[38;5;241;43m.\u001b[39;49m\u001b[43mbarplot\u001b[49m\u001b[43m(\u001b[49m\u001b[43mx\u001b[49m\u001b[38;5;241;43m=\u001b[39;49m\u001b[38;5;124;43m'\u001b[39;49m\u001b[38;5;124;43m'\u001b[39;49m\u001b[43m,\u001b[49m\u001b[43m \u001b[49m\u001b[43my\u001b[49m\u001b[38;5;241;43m=\u001b[39;49m\u001b[38;5;124;43m'\u001b[39;49m\u001b[38;5;124;43mCategory\u001b[39;49m\u001b[38;5;124;43m'\u001b[39;49m\u001b[43m,\u001b[49m\u001b[43m \u001b[49m\u001b[43mdata\u001b[49m\u001b[38;5;241;43m=\u001b[39;49m\u001b[43mdf\u001b[49m\u001b[43m,\u001b[49m\u001b[43m \u001b[49m\u001b[43mpalette\u001b[49m\u001b[38;5;241;43m=\u001b[39;49m\u001b[38;5;124;43m'\u001b[39;49m\u001b[38;5;124;43mviridis\u001b[39;49m\u001b[38;5;124;43m'\u001b[39;49m\u001b[43m)\u001b[49m\n\u001b[1;32m     14\u001b[0m plt\u001b[38;5;241m.\u001b[39mtitle(\u001b[38;5;124m'\u001b[39m\u001b[38;5;124mBar Plot\u001b[39m\u001b[38;5;124m'\u001b[39m)\n\u001b[1;32m     15\u001b[0m plt\u001b[38;5;241m.\u001b[39mshow()\n",
      "File \u001b[0;32m~/.conda/envs/py38/lib/python3.8/site-packages/seaborn/categorical.py:2341\u001b[0m, in \u001b[0;36mbarplot\u001b[0;34m(data, x, y, hue, order, hue_order, estimator, errorbar, n_boot, seed, units, weights, orient, color, palette, saturation, fill, hue_norm, width, dodge, gap, log_scale, native_scale, formatter, legend, capsize, err_kws, ci, errcolor, errwidth, ax, **kwargs)\u001b[0m\n\u001b[1;32m   2338\u001b[0m \u001b[38;5;28;01mif\u001b[39;00m estimator \u001b[38;5;129;01mis\u001b[39;00m \u001b[38;5;28mlen\u001b[39m:\n\u001b[1;32m   2339\u001b[0m     estimator \u001b[38;5;241m=\u001b[39m \u001b[38;5;124m\"\u001b[39m\u001b[38;5;124msize\u001b[39m\u001b[38;5;124m\"\u001b[39m\n\u001b[0;32m-> 2341\u001b[0m p \u001b[38;5;241m=\u001b[39m \u001b[43m_CategoricalAggPlotter\u001b[49m\u001b[43m(\u001b[49m\n\u001b[1;32m   2342\u001b[0m \u001b[43m    \u001b[49m\u001b[43mdata\u001b[49m\u001b[38;5;241;43m=\u001b[39;49m\u001b[43mdata\u001b[49m\u001b[43m,\u001b[49m\n\u001b[1;32m   2343\u001b[0m \u001b[43m    \u001b[49m\u001b[43mvariables\u001b[49m\u001b[38;5;241;43m=\u001b[39;49m\u001b[38;5;28;43mdict\u001b[39;49m\u001b[43m(\u001b[49m\u001b[43mx\u001b[49m\u001b[38;5;241;43m=\u001b[39;49m\u001b[43mx\u001b[49m\u001b[43m,\u001b[49m\u001b[43m \u001b[49m\u001b[43my\u001b[49m\u001b[38;5;241;43m=\u001b[39;49m\u001b[43my\u001b[49m\u001b[43m,\u001b[49m\u001b[43m \u001b[49m\u001b[43mhue\u001b[49m\u001b[38;5;241;43m=\u001b[39;49m\u001b[43mhue\u001b[49m\u001b[43m,\u001b[49m\u001b[43m \u001b[49m\u001b[43munits\u001b[49m\u001b[38;5;241;43m=\u001b[39;49m\u001b[43munits\u001b[49m\u001b[43m,\u001b[49m\u001b[43m \u001b[49m\u001b[43mweight\u001b[49m\u001b[38;5;241;43m=\u001b[39;49m\u001b[43mweights\u001b[49m\u001b[43m)\u001b[49m\u001b[43m,\u001b[49m\n\u001b[1;32m   2344\u001b[0m \u001b[43m    \u001b[49m\u001b[43morder\u001b[49m\u001b[38;5;241;43m=\u001b[39;49m\u001b[43morder\u001b[49m\u001b[43m,\u001b[49m\n\u001b[1;32m   2345\u001b[0m \u001b[43m    \u001b[49m\u001b[43morient\u001b[49m\u001b[38;5;241;43m=\u001b[39;49m\u001b[43morient\u001b[49m\u001b[43m,\u001b[49m\n\u001b[1;32m   2346\u001b[0m \u001b[43m    \u001b[49m\u001b[43mcolor\u001b[49m\u001b[38;5;241;43m=\u001b[39;49m\u001b[43mcolor\u001b[49m\u001b[43m,\u001b[49m\n\u001b[1;32m   2347\u001b[0m \u001b[43m    \u001b[49m\u001b[43mlegend\u001b[49m\u001b[38;5;241;43m=\u001b[39;49m\u001b[43mlegend\u001b[49m\u001b[43m,\u001b[49m\n\u001b[1;32m   2348\u001b[0m \u001b[43m\u001b[49m\u001b[43m)\u001b[49m\n\u001b[1;32m   2350\u001b[0m \u001b[38;5;28;01mif\u001b[39;00m ax \u001b[38;5;129;01mis\u001b[39;00m \u001b[38;5;28;01mNone\u001b[39;00m:\n\u001b[1;32m   2351\u001b[0m     ax \u001b[38;5;241m=\u001b[39m plt\u001b[38;5;241m.\u001b[39mgca()\n",
      "File \u001b[0;32m~/.conda/envs/py38/lib/python3.8/site-packages/seaborn/categorical.py:67\u001b[0m, in \u001b[0;36m_CategoricalPlotter.__init__\u001b[0;34m(self, data, variables, order, orient, require_numeric, color, legend)\u001b[0m\n\u001b[1;32m     56\u001b[0m \u001b[38;5;28;01mdef\u001b[39;00m \u001b[38;5;21m__init__\u001b[39m(\n\u001b[1;32m     57\u001b[0m     \u001b[38;5;28mself\u001b[39m,\n\u001b[1;32m     58\u001b[0m     data\u001b[38;5;241m=\u001b[39m\u001b[38;5;28;01mNone\u001b[39;00m,\n\u001b[0;32m   (...)\u001b[0m\n\u001b[1;32m     64\u001b[0m     legend\u001b[38;5;241m=\u001b[39m\u001b[38;5;124m\"\u001b[39m\u001b[38;5;124mauto\u001b[39m\u001b[38;5;124m\"\u001b[39m,\n\u001b[1;32m     65\u001b[0m ):\n\u001b[0;32m---> 67\u001b[0m     \u001b[38;5;28;43msuper\u001b[39;49m\u001b[43m(\u001b[49m\u001b[43m)\u001b[49m\u001b[38;5;241;43m.\u001b[39;49m\u001b[38;5;21;43m__init__\u001b[39;49m\u001b[43m(\u001b[49m\u001b[43mdata\u001b[49m\u001b[38;5;241;43m=\u001b[39;49m\u001b[43mdata\u001b[49m\u001b[43m,\u001b[49m\u001b[43m \u001b[49m\u001b[43mvariables\u001b[49m\u001b[38;5;241;43m=\u001b[39;49m\u001b[43mvariables\u001b[49m\u001b[43m)\u001b[49m\n\u001b[1;32m     69\u001b[0m     \u001b[38;5;66;03m# This method takes care of some bookkeeping that is necessary because the\u001b[39;00m\n\u001b[1;32m     70\u001b[0m     \u001b[38;5;66;03m# original categorical plots (prior to the 2021 refactor) had some rules that\u001b[39;00m\n\u001b[1;32m     71\u001b[0m     \u001b[38;5;66;03m# don't fit exactly into VectorPlotter logic. It may be wise to have a second\u001b[39;00m\n\u001b[0;32m   (...)\u001b[0m\n\u001b[1;32m     76\u001b[0m     \u001b[38;5;66;03m# default VectorPlotter rules. If we do decide to make orient part of the\u001b[39;00m\n\u001b[1;32m     77\u001b[0m     \u001b[38;5;66;03m# _base variable assignment, we'll want to figure out how to express that.\u001b[39;00m\n\u001b[1;32m     78\u001b[0m     \u001b[38;5;28;01mif\u001b[39;00m \u001b[38;5;28mself\u001b[39m\u001b[38;5;241m.\u001b[39minput_format \u001b[38;5;241m==\u001b[39m \u001b[38;5;124m\"\u001b[39m\u001b[38;5;124mwide\u001b[39m\u001b[38;5;124m\"\u001b[39m \u001b[38;5;129;01mand\u001b[39;00m orient \u001b[38;5;129;01min\u001b[39;00m [\u001b[38;5;124m\"\u001b[39m\u001b[38;5;124mh\u001b[39m\u001b[38;5;124m\"\u001b[39m, \u001b[38;5;124m\"\u001b[39m\u001b[38;5;124my\u001b[39m\u001b[38;5;124m\"\u001b[39m]:\n",
      "File \u001b[0;32m~/.conda/envs/py38/lib/python3.8/site-packages/seaborn/_base.py:634\u001b[0m, in \u001b[0;36mVectorPlotter.__init__\u001b[0;34m(self, data, variables)\u001b[0m\n\u001b[1;32m    629\u001b[0m \u001b[38;5;66;03m# var_ordered is relevant only for categorical axis variables, and may\u001b[39;00m\n\u001b[1;32m    630\u001b[0m \u001b[38;5;66;03m# be better handled by an internal axis information object that tracks\u001b[39;00m\n\u001b[1;32m    631\u001b[0m \u001b[38;5;66;03m# such information and is set up by the scale_* methods. The analogous\u001b[39;00m\n\u001b[1;32m    632\u001b[0m \u001b[38;5;66;03m# information for numeric axes would be information about log scales.\u001b[39;00m\n\u001b[1;32m    633\u001b[0m \u001b[38;5;28mself\u001b[39m\u001b[38;5;241m.\u001b[39m_var_ordered \u001b[38;5;241m=\u001b[39m {\u001b[38;5;124m\"\u001b[39m\u001b[38;5;124mx\u001b[39m\u001b[38;5;124m\"\u001b[39m: \u001b[38;5;28;01mFalse\u001b[39;00m, \u001b[38;5;124m\"\u001b[39m\u001b[38;5;124my\u001b[39m\u001b[38;5;124m\"\u001b[39m: \u001b[38;5;28;01mFalse\u001b[39;00m}  \u001b[38;5;66;03m# alt., used DefaultDict\u001b[39;00m\n\u001b[0;32m--> 634\u001b[0m \u001b[38;5;28;43mself\u001b[39;49m\u001b[38;5;241;43m.\u001b[39;49m\u001b[43massign_variables\u001b[49m\u001b[43m(\u001b[49m\u001b[43mdata\u001b[49m\u001b[43m,\u001b[49m\u001b[43m \u001b[49m\u001b[43mvariables\u001b[49m\u001b[43m)\u001b[49m\n\u001b[1;32m    636\u001b[0m \u001b[38;5;66;03m# TODO Lots of tests assume that these are called to initialize the\u001b[39;00m\n\u001b[1;32m    637\u001b[0m \u001b[38;5;66;03m# mappings to default values on class initialization. I'd prefer to\u001b[39;00m\n\u001b[1;32m    638\u001b[0m \u001b[38;5;66;03m# move away from that and only have a mapping when explicitly called.\u001b[39;00m\n\u001b[1;32m    639\u001b[0m \u001b[38;5;28;01mfor\u001b[39;00m var \u001b[38;5;129;01min\u001b[39;00m [\u001b[38;5;124m\"\u001b[39m\u001b[38;5;124mhue\u001b[39m\u001b[38;5;124m\"\u001b[39m, \u001b[38;5;124m\"\u001b[39m\u001b[38;5;124msize\u001b[39m\u001b[38;5;124m\"\u001b[39m, \u001b[38;5;124m\"\u001b[39m\u001b[38;5;124mstyle\u001b[39m\u001b[38;5;124m\"\u001b[39m]:\n",
      "File \u001b[0;32m~/.conda/envs/py38/lib/python3.8/site-packages/seaborn/_base.py:679\u001b[0m, in \u001b[0;36mVectorPlotter.assign_variables\u001b[0;34m(self, data, variables)\u001b[0m\n\u001b[1;32m    674\u001b[0m \u001b[38;5;28;01melse\u001b[39;00m:\n\u001b[1;32m    675\u001b[0m     \u001b[38;5;66;03m# When dealing with long-form input, use the newer PlotData\u001b[39;00m\n\u001b[1;32m    676\u001b[0m     \u001b[38;5;66;03m# object (internal but introduced for the objects interface)\u001b[39;00m\n\u001b[1;32m    677\u001b[0m     \u001b[38;5;66;03m# to centralize / standardize data consumption logic.\u001b[39;00m\n\u001b[1;32m    678\u001b[0m     \u001b[38;5;28mself\u001b[39m\u001b[38;5;241m.\u001b[39minput_format \u001b[38;5;241m=\u001b[39m \u001b[38;5;124m\"\u001b[39m\u001b[38;5;124mlong\u001b[39m\u001b[38;5;124m\"\u001b[39m\n\u001b[0;32m--> 679\u001b[0m     plot_data \u001b[38;5;241m=\u001b[39m \u001b[43mPlotData\u001b[49m\u001b[43m(\u001b[49m\u001b[43mdata\u001b[49m\u001b[43m,\u001b[49m\u001b[43m \u001b[49m\u001b[43mvariables\u001b[49m\u001b[43m)\u001b[49m\n\u001b[1;32m    680\u001b[0m     frame \u001b[38;5;241m=\u001b[39m plot_data\u001b[38;5;241m.\u001b[39mframe\n\u001b[1;32m    681\u001b[0m     names \u001b[38;5;241m=\u001b[39m plot_data\u001b[38;5;241m.\u001b[39mnames\n",
      "File \u001b[0;32m~/.conda/envs/py38/lib/python3.8/site-packages/seaborn/_core/data.py:58\u001b[0m, in \u001b[0;36mPlotData.__init__\u001b[0;34m(self, data, variables)\u001b[0m\n\u001b[1;32m     51\u001b[0m \u001b[38;5;28;01mdef\u001b[39;00m \u001b[38;5;21m__init__\u001b[39m(\n\u001b[1;32m     52\u001b[0m     \u001b[38;5;28mself\u001b[39m,\n\u001b[1;32m     53\u001b[0m     data: DataSource,\n\u001b[1;32m     54\u001b[0m     variables: \u001b[38;5;28mdict\u001b[39m[\u001b[38;5;28mstr\u001b[39m, VariableSpec],\n\u001b[1;32m     55\u001b[0m ):\n\u001b[1;32m     57\u001b[0m     data \u001b[38;5;241m=\u001b[39m handle_data_source(data)\n\u001b[0;32m---> 58\u001b[0m     frame, names, ids \u001b[38;5;241m=\u001b[39m \u001b[38;5;28;43mself\u001b[39;49m\u001b[38;5;241;43m.\u001b[39;49m\u001b[43m_assign_variables\u001b[49m\u001b[43m(\u001b[49m\u001b[43mdata\u001b[49m\u001b[43m,\u001b[49m\u001b[43m \u001b[49m\u001b[43mvariables\u001b[49m\u001b[43m)\u001b[49m\n\u001b[1;32m     60\u001b[0m     \u001b[38;5;28mself\u001b[39m\u001b[38;5;241m.\u001b[39mframe \u001b[38;5;241m=\u001b[39m frame\n\u001b[1;32m     61\u001b[0m     \u001b[38;5;28mself\u001b[39m\u001b[38;5;241m.\u001b[39mnames \u001b[38;5;241m=\u001b[39m names\n",
      "File \u001b[0;32m~/.conda/envs/py38/lib/python3.8/site-packages/seaborn/_core/data.py:232\u001b[0m, in \u001b[0;36mPlotData._assign_variables\u001b[0;34m(self, data, variables)\u001b[0m\n\u001b[1;32m    230\u001b[0m     \u001b[38;5;28;01melse\u001b[39;00m:\n\u001b[1;32m    231\u001b[0m         err \u001b[38;5;241m+\u001b[39m\u001b[38;5;241m=\u001b[39m \u001b[38;5;124m\"\u001b[39m\u001b[38;5;124mAn entry with this name does not appear in `data`.\u001b[39m\u001b[38;5;124m\"\u001b[39m\n\u001b[0;32m--> 232\u001b[0m     \u001b[38;5;28;01mraise\u001b[39;00m \u001b[38;5;167;01mValueError\u001b[39;00m(err)\n\u001b[1;32m    234\u001b[0m \u001b[38;5;28;01melse\u001b[39;00m:\n\u001b[1;32m    235\u001b[0m \n\u001b[1;32m    236\u001b[0m     \u001b[38;5;66;03m# Otherwise, assume the value somehow represents data\u001b[39;00m\n\u001b[1;32m    237\u001b[0m \n\u001b[1;32m    238\u001b[0m     \u001b[38;5;66;03m# Ignore empty data structures\u001b[39;00m\n\u001b[1;32m    239\u001b[0m     \u001b[38;5;28;01mif\u001b[39;00m \u001b[38;5;28misinstance\u001b[39m(val, Sized) \u001b[38;5;129;01mand\u001b[39;00m \u001b[38;5;28mlen\u001b[39m(val) \u001b[38;5;241m==\u001b[39m \u001b[38;5;241m0\u001b[39m:\n",
      "\u001b[0;31mValueError\u001b[0m: Could not interpret value `` for `x`. An entry with this name does not appear in `data`."
     ]
    },
    {
     "data": {
      "text/plain": [
       "<Figure size 800x600 with 0 Axes>"
      ]
     },
     "metadata": {},
     "output_type": "display_data"
    }
   ],
   "source": [
    "import seaborn as sns\n",
    "import pandas as pd\n",
    "import matplotlib.pyplot as plt\n",
    "\n",
    "# Example dataset\n",
    "data = {'Category': ['A', 'B', 'C', 'D'], 'Values': [10, 20, 15, 25]}\n",
    "#df = results[0]#\n",
    "df=pd.DataFrame(data)\n",
    "print(df)\n",
    "# Bar plot\n",
    "sns.set(style=\"whitegrid\")\n",
    "plt.figure(figsize=(8, 6))\n",
    "sns.barplot(x='', y='Category', data=df, palette='viridis')\n",
    "plt.title('Bar Plot')\n",
    "plt.show()\n",
    "\n",
    "sns.barplot(x='Metric', y='Value', data=data, palette='Blues_d')\n",
    "plt.title('Endpoint Count Visualization')\n",
    "plt.ylabel('Count')\n",
    "plt.xlabel('Metric')\n"
   ]
  },
  {
   "cell_type": "code",
   "execution_count": 56,
   "id": "0b2b03ff-9e5c-4311-876d-02d53803757d",
   "metadata": {},
   "outputs": [],
   "source": [
    "import pandas as pd\n",
    "import matplotlib.pyplot as plt\n",
    "import seaborn as sns\n",
    "##****important run this before run figure.show()\n",
    "import plotly.io as pio\n",
    "pio.renderers.default = 'iframe'\n",
    "import plotly.graph_objects as go\n",
    "\n"
   ]
  },
  {
   "cell_type": "code",
   "execution_count": 29,
   "id": "326ca196-b6a0-4317-8105-3c38795c0eb7",
   "metadata": {},
   "outputs": [],
   "source": []
  },
  {
   "cell_type": "code",
   "execution_count": 30,
   "id": "521f78d0-847e-41cb-9476-5dd5e48674fc",
   "metadata": {},
   "outputs": [
    {
     "data": {
      "text/html": [
       "<iframe\n",
       "    scrolling=\"no\"\n",
       "    width=\"100%\"\n",
       "    height=\"545px\"\n",
       "    src=\"iframe_figures/figure_30.html\"\n",
       "    frameborder=\"0\"\n",
       "    allowfullscreen\n",
       "></iframe>\n"
      ]
     },
     "metadata": {},
     "output_type": "display_data"
    }
   ],
   "source": [
    "import pandas as pd\n",
    "#import plotly.graph_objects as go\n",
    "\n",
    "# Recreate the dataset\n",
    "data = pd.DataFrame({'ArtistId': [90], 'Name': ['Iron Maiden'], 'PlaylistCount': [516]})\n",
    "\n",
    "# Extract and render the Plotly Figure\n",
    "figure = go.Figure(\n",
    "    data=[\n",
    "        go.Scatter(\n",
    "            x=data['ArtistId'],\n",
    "            y=data['PlaylistCount'],\n",
    "            mode='markers',\n",
    "            marker=dict(color='#636efa', symbol='circle'),\n",
    "            hovertemplate='ArtistId=%{x}<br>PlaylistCount=%{y}<extra></extra>'\n",
    "        )\n",
    "    ],\n",
    "    layout=dict(\n",
    "        xaxis=dict(title='ArtistId'),\n",
    "        yaxis=dict(title='PlaylistCount'),\n",
    "        margin=dict(t=60),\n",
    "        template='plotly'\n",
    "    )\n",
    ")\n",
    "\n",
    "# Display the figure\n",
    "figure.show()\n"
   ]
  },
  {
   "cell_type": "code",
   "execution_count": 31,
   "id": "96ed9ab8-19a6-4540-9aa9-4bff0a3e6f98",
   "metadata": {},
   "outputs": [],
   "source": [
    "import pandas as pd\n",
    "import plotly.graph_objects as go\n"
   ]
  },
  {
   "cell_type": "code",
   "execution_count": 32,
   "id": "3cfb39c6-c871-4cd7-add7-d9634a1a9405",
   "metadata": {},
   "outputs": [
    {
     "data": {
      "text/html": [
       "<iframe\n",
       "    scrolling=\"no\"\n",
       "    width=\"100%\"\n",
       "    height=\"545px\"\n",
       "    src=\"iframe_figures/figure_32.html\"\n",
       "    frameborder=\"0\"\n",
       "    allowfullscreen\n",
       "></iframe>\n"
      ]
     },
     "metadata": {},
     "output_type": "display_data"
    }
   ],
   "source": [
    "# Recreate the dataset\n",
    "data = pd.DataFrame({'ArtistId': [90], 'Name': ['Iron Maiden'], 'PlaylistCount': [516]})\n",
    "\n",
    "# Extract and render the Plotly Figure\n",
    "figure = go.Figure(\n",
    "    data=[\n",
    "        go.Scatter(\n",
    "            x=data['ArtistId'],\n",
    "            y=data['PlaylistCount'],\n",
    "            mode='markers',\n",
    "            marker=dict(color='#636efa', symbol='circle'),\n",
    "            hovertemplate='ArtistId=%{x}<br>PlaylistCount=%{y}<extra></extra>'\n",
    "        )\n",
    "    ],\n",
    "    layout=dict(\n",
    "        xaxis=dict(title='ArtistId'),\n",
    "        yaxis=dict(title='PlaylistCount'),\n",
    "        margin=dict(t=60),\n",
    "        template='plotly'\n",
    "    )\n",
    ")\n",
    "# Display the figure\n",
    "figure.show()"
   ]
  },
  {
   "cell_type": "code",
   "execution_count": 33,
   "id": "6c130436-b4ad-402b-912a-328d1ac656f3",
   "metadata": {},
   "outputs": [
    {
     "data": {
      "text/html": [
       "<iframe\n",
       "    scrolling=\"no\"\n",
       "    width=\"100%\"\n",
       "    height=\"545px\"\n",
       "    src=\"iframe_figures/figure_33.html\"\n",
       "    frameborder=\"0\"\n",
       "    allowfullscreen\n",
       "></iframe>\n"
      ]
     },
     "metadata": {},
     "output_type": "display_data"
    }
   ],
   "source": [
    "#Test plot code\n",
    "import plotly.graph_objects as go\n",
    "\n",
    "# Example plot\n",
    "fig = go.Figure(\n",
    "    data=[go.Scatter(x=[1, 2, 3], y=[10, 20, 30], mode='lines')],\n",
    "    layout=dict(title=\"Test Plot\")\n",
    ")\n",
    "fig.show()\n"
   ]
  },
  {
   "cell_type": "code",
   "execution_count": 35,
   "id": "99f57566-7177-4b95-925a-32ee74404991",
   "metadata": {},
   "outputs": [
    {
     "data": {
      "text/html": [
       "<iframe\n",
       "    scrolling=\"no\"\n",
       "    width=\"100%\"\n",
       "    height=\"545px\"\n",
       "    src=\"iframe_figures/figure_35.html\"\n",
       "    frameborder=\"0\"\n",
       "    allowfullscreen\n",
       "></iframe>\n"
      ]
     },
     "metadata": {},
     "output_type": "display_data"
    }
   ],
   "source": [
    "# Example dataset\n",
    "data = {'Category': ['A', 'B', 'C', 'D'], 'Values': [10, 20, 15, 25]}\n",
    "colors = ['#FF5733', '#33FF57', '#3357FF', '#F3FF33']\n",
    "fig = go.Figure(\n",
    "    data=[\n",
    "        go.Bar(\n",
    "            x=data['Category'],  # Categories for x-axis\n",
    "            y=data['Values'],    # Values for y-axis\n",
    "            name='Category Values',  # Legend name\n",
    "            #marker=dict(color='skyblue')  # Custom bar color\n",
    "            marker=dict(color=colors)\n",
    "        )\n",
    "    ],\n",
    "    layout=go.Layout(\n",
    "        title=\"Category vs. Values\",  # Title of the chart\n",
    "        xaxis=dict(title=\"Category\"),  # X-axis title\n",
    "        yaxis=dict(title=\"Values\"),    # Y-axis title\n",
    "    )\n",
    ")\n",
    "\n",
    "fig.show()\n"
   ]
  },
  {
   "cell_type": "code",
   "execution_count": null,
   "id": "42878b93-36c7-4749-8afc-da2a273cfd68",
   "metadata": {},
   "outputs": [],
   "source": []
  },
  {
   "cell_type": "code",
   "execution_count": 39,
   "id": "a1c6479a-85a2-448d-bd71-ca446ed5c994",
   "metadata": {},
   "outputs": [],
   "source": []
  },
  {
   "cell_type": "code",
   "execution_count": 45,
   "id": "13370fb0-a76a-4f45-a1ca-971842096a96",
   "metadata": {},
   "outputs": [
    {
     "data": {
      "text/html": [
       "<iframe\n",
       "    scrolling=\"no\"\n",
       "    width=\"100%\"\n",
       "    height=\"545px\"\n",
       "    src=\"iframe_figures/figure_45.html\"\n",
       "    frameborder=\"0\"\n",
       "    allowfullscreen\n",
       "></iframe>\n"
      ]
     },
     "metadata": {},
     "output_type": "display_data"
    }
   ],
   "source": [
    "import numpy as np\n",
    "\n",
    " \n",
    "fig = go.Figure({\n",
    "     'data': [{'domain': {'x': [0.0, 1.0], 'y': [0.0, 1.0]},\n",
    "               'hovertemplate': 'Genre=%{label}<br>TotalTracks=%{value}<extra></extra>',\n",
    "               'labels': np.array(['Alternative', 'Alternative & Punk', 'Blues', 'Bossa Nova', 'Classical',\n",
    "                                'Comedy', 'Drama', 'Easy Listening', 'Electronica/Dance', 'Heavy Metal',\n",
    "                                'Hip Hop/Rap', 'Jazz', 'Latin', 'Metal', 'Opera', 'Pop', 'R&B/Soul',\n",
    "                                'Reggae', 'Rock', 'Rock And Roll', 'Sci Fi & Fantasy',\n",
    "                                'Science Fiction', 'Soundtrack', 'TV Shows', 'World'], dtype=object),\n",
    "               'legendgroup': '',\n",
    "               'name': '',\n",
    "               'showlegend': True,\n",
    "               'type': 'pie',\n",
    "               'values': np.array([  40,  332,   81,   15,   74,   17,   64,   24,   30,   28,   35,  130,\n",
    "                                 579,  374,    1,   48,   61,   58, 1297,   12,   26,   13,   43,   93,\n",
    "                                  28])}],\n",
    "     'layout': {'legend': {'tracegroupgap': 0}, 'template': 'plotly', 'title': {'text': 'Distribution of Genre in the Track'}}\n",
    " })\n",
    "fig.show()"
   ]
  },
  {
   "cell_type": "code",
   "execution_count": null,
   "id": "8044492d-e3bb-494f-902d-43be70c403ec",
   "metadata": {},
   "outputs": [],
   "source": []
  },
  {
   "cell_type": "code",
   "execution_count": 58,
   "id": "7eb67f10-488b-414b-bcf5-f1366db2e935",
   "metadata": {},
   "outputs": [
    {
     "data": {
      "text/html": [
       "<iframe\n",
       "    scrolling=\"no\"\n",
       "    width=\"100%\"\n",
       "    height=\"545px\"\n",
       "    src=\"iframe_figures/figure_58.html\"\n",
       "    frameborder=\"0\"\n",
       "    allowfullscreen\n",
       "></iframe>\n"
      ]
     },
     "metadata": {},
     "output_type": "display_data"
    }
   ],
   "source": [
    " \n",
    "\n",
    "fig = go.Figure({\n",
    "     'data': [{'hovertemplate': 'ArtistId=%{x}<br>PlaylistCount=%{y}<extra></extra>',\n",
    "               'legendgroup': '',\n",
    "               'marker': {'color': '#636efa', 'symbol': 'circle'},\n",
    "               'mode': 'markers',\n",
    "               'name': '',\n",
    "               'orientation': 'v',\n",
    "               'showlegend': False,\n",
    "               'type': 'scatter',\n",
    "               'x': np.array([90]),\n",
    "               'xaxis': 'x',\n",
    "               'y': np.array([516]),\n",
    "               'yaxis': 'y'}],\n",
    "     'layout': {'legend': {'tracegroupgap': 0},\n",
    "                'margin': {'t': 60},\n",
    "                'template': 'plotly',\n",
    "                'xaxis': {'anchor': 'y', 'domain': [0.0, 1.0], 'title': {'text': 'ArtistId'}},\n",
    "                'yaxis': {'anchor': 'x', 'domain': [0.0, 1.0], 'title': {'text': 'PlaylistCount'}}}\n",
    " })\n",
    "\n",
    "fig.show()\n",
    "#'ggplot2', 'seaborn', 'simple_white', 'plotly', 'plotly_white'"
   ]
  },
  {
   "cell_type": "code",
   "execution_count": null,
   "id": "b09e8897-6631-4a04-9ba7-bc7fa58accd9",
   "metadata": {},
   "outputs": [],
   "source": []
  }
 ],
 "metadata": {
  "kernelspec": {
   "display_name": "Python (py38)",
   "language": "python",
   "name": "py38"
  },
  "language_info": {
   "codemirror_mode": {
    "name": "ipython",
    "version": 3
   },
   "file_extension": ".py",
   "mimetype": "text/x-python",
   "name": "python",
   "nbconvert_exporter": "python",
   "pygments_lexer": "ipython3",
   "version": "3.8.20"
  }
 },
 "nbformat": 4,
 "nbformat_minor": 5
}
