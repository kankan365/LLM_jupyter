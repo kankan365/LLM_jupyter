{
 "cells": [
  {
   "cell_type": "code",
   "execution_count": 1,
   "id": "512087e6-9d3d-4066-986c-951e13bb1041",
   "metadata": {},
   "outputs": [],
   "source": [
    "#https://github.com/run-llama/llama_index/issues/13727\n",
    "import os\n",
    "os.environ[\"OPENAI_API_TYPE\"] = \"azure\"\n",
    "os.environ[\"OPENAI_API_BASE\"] = \"https://litellm.toxpipe.niehs.nih.gov\"\n",
    "os.environ[\"OPENAI_API_KEY\"] =  \"sk-dSTROKbqfoD8L2WDNDhwXA\"\n",
    "os.environ[\"AZURE_OPENAI_ENDPOINT\"] = \"https://litellm.toxpipe.niehs.nih.gov\"\n",
    "os.environ[\"OPENAI_API_VERSION\"] = \"2023-05-15\"\n",
    "\n",
    "azure_endpoint = \"https://litellm.toxpipe.niehs.nih.gov\"\n",
    "# Define your custom base URL and API key\n",
    "base_url = \"https://litellm.toxpipe.niehs.nih.gov\"\n",
    "api_key = \"sk-dSTROKbqfoD8L2WDNDhwXA\"\n",
    "model_name=\"azure-gpt-4o\""
   ]
  },
  {
   "cell_type": "code",
   "execution_count": 2,
   "id": "2bbe4d8e-1cde-4767-9e03-116b9c7403a0",
   "metadata": {},
   "outputs": [],
   "source": [
    "from llama_index.legacy.multi_modal_llms.azure_openai import AzureOpenAIMultiModal\n",
    "\n",
    "azure_openai_multi_modal = AzureOpenAIMultiModal(\n",
    "    model=\"gpt-4o\",\n",
    "    engine=\"gpt-4o-mini\",# toxpipe:\"azure-gpt-4o\",  # Replace with your deployment name\n",
    "    azure_endpoint=azure_endpoint,  # Replace with your endpoint URL\n",
    "    api_key=api_key,  # Replace with your API key\n",
    "    api_version=\"2024-07-18\",# toxpipe:\"2023-05-15\"\n",
    ")"
   ]
  },
  {
   "cell_type": "code",
   "execution_count": 3,
   "id": "24c39165-b2c9-4f5e-b864-e4b23807b1b0",
   "metadata": {},
   "outputs": [],
   "source": [
    "from llama_index.core.indices import MultiModalVectorStoreIndex\n",
    "#from llama_index.vector_stores.qdrant import QdrantVectorStore\n",
    "from llama_index.legacy.vector_stores.qdrant import QdrantVectorStore\n",
    "\n",
    "from llama_index.core import SimpleDirectoryReader, StorageContext\n",
    "# \"`qdrant-client` package not found, please run `pip install qdrant-client`\"\n",
    "#pip install qdrant-client\n",
    "import qdrant_client"
   ]
  },
  {
   "cell_type": "code",
   "execution_count": 4,
   "id": "c49bfa37-ef8f-41a1-9c0b-68b40686f92a",
   "metadata": {},
   "outputs": [
    {
     "name": "stdout",
     "output_type": "stream",
     "text": [
      "58\n"
     ]
    }
   ],
   "source": [
    "# file directory has three unrelated files: science paper, drugmatrix and car porsche models\n",
    "documents = SimpleDirectoryReader(\"./test_data/\").load_data()\n",
    "print(len(documents))\n",
    "from llama_index.core import Document, VectorStoreIndex\n",
    "\n",
    "index = VectorStoreIndex.from_documents(documents)"
   ]
  },
  {
   "cell_type": "code",
   "execution_count": 5,
   "id": "16690864-b440-4f99-8b2f-295a6ba29100",
   "metadata": {},
   "outputs": [],
   "source": [
    "# Use MultiModal Retriever and Query Engine\n",
    "from llama_index.core import PromptTemplate\n",
    "from llama_index.core.query_engine import SimpleMultiModalQueryEngine\n",
    "#return top answer\n",
    "retriever_engine = index.as_retriever(similarity_top_k=1, image_similarity_top_k=3)\n"
   ]
  },
  {
   "cell_type": "code",
   "execution_count": 6,
   "id": "b7322ca8-864f-4289-9470-068b6058a16e",
   "metadata": {},
   "outputs": [],
   "source": [
    "retrieval_results2 = retriever_engine.retrieve(\"When is the Joe Wong 中文脱口秀北卡 show\")\n",
    "                                              \n",
    "                                "
   ]
  },
  {
   "cell_type": "code",
   "execution_count": 7,
   "id": "40abc54f-f4a4-4af7-b94d-2831cd7b4651",
   "metadata": {},
   "outputs": [
    {
     "name": "stdout",
     "output_type": "stream",
     "text": [
      "Order Information\n",
      "Do you organize events?\n",
      "Start selling in minutes with Eventbrite!\n",
      "www.eventbrite.com黄西 Joe Wong 中文脱口秀北卡 RTP专场\n",
      "《水土不服》\n",
      "Sunday, November 10, 2024 from 5:30 PM to 6:30 PM (EST)Gross Hall, 1 Towerview Road, Durham, NC 27710General早鸟票  $44.52\n",
      "Order #10749729879. Ordered by Sue Nolte on October\n",
      "15, 2024 8:53 AMEventbrite Completed\n",
      "1074972987917724837359001\n",
      "Order #10749729879\n"
     ]
    }
   ],
   "source": [
    "for result in retrieval_results2:\n",
    "    print (result.text)"
   ]
  },
  {
   "cell_type": "code",
   "execution_count": 8,
   "id": "0ef93949",
   "metadata": {},
   "outputs": [],
   "source": [
    "retrieval_results5 = retriever_engine.retrieve(\"who bought the ticket of Joe Wong 中文脱口秀北卡?\")"
   ]
  },
  {
   "cell_type": "code",
   "execution_count": 9,
   "id": "1e845029",
   "metadata": {},
   "outputs": [
    {
     "name": "stdout",
     "output_type": "stream",
     "text": [
      "Order Information\n",
      "Do you organize events?\n",
      "Start selling in minutes with Eventbrite!\n",
      "www.eventbrite.com黄西 Joe Wong 中文脱口秀北卡 RTP专场\n",
      "《水土不服》\n",
      "Sunday, November 10, 2024 from 5:30 PM to 6:30 PM (EST)Gross Hall, 1 Towerview Road, Durham, NC 27710General早鸟票  $44.52\n",
      "Order #10749729879. Ordered by Sue Nolte on October\n",
      "15, 2024 8:53 AMEventbrite Completed\n",
      "1074972987917724837369001\n",
      "Order #10749729879\n"
     ]
    }
   ],
   "source": [
    "for result in retrieval_results5:\n",
    "    print (result.text)"
   ]
  },
  {
   "cell_type": "markdown",
   "id": "c7e0ed76-f3e4-46ab-801b-9025dd827691",
   "metadata": {},
   "source": [
    "## Return top three answers:"
   ]
  },
  {
   "cell_type": "code",
   "execution_count": 10,
   "id": "35f572cb-cff8-44a5-b9a4-6a8c5627a307",
   "metadata": {},
   "outputs": [],
   "source": [
    " \n",
    "#return top answer\n",
    "retriever_engine = index.as_retriever(similarity_top_k=3, image_similarity_top_k=3)"
   ]
  },
  {
   "cell_type": "code",
   "execution_count": 11,
   "id": "c940a367",
   "metadata": {},
   "outputs": [],
   "source": [
    "retrieval_results3 = retriever_engine.retrieve(\"How many models of porsche? \")"
   ]
  },
  {
   "cell_type": "code",
   "execution_count": 12,
   "id": "84d2fd2e",
   "metadata": {},
   "outputs": [
    {
     "name": "stdout",
     "output_type": "stream",
     "text": [
      "13 12 Models | 718\n",
      "Four-cylinder boxer engine with turbocharger\n",
      "Two luggage \n",
      "compartments\n",
      "Two seats\n",
      "Porsche Doppelkupplung (PDK) or manual transmission\n",
      "Mid-engine concept\n",
      "Six-cylinder boxer naturally aspirated engine on \n",
      "718 GTS 4.0 models\n",
      "Rear-wheel drive \n",
      "For efficiency class, fuel consumption and CO₂ emissions, please refer to page 86 onwards.\n",
      "Cayman\n",
      "Boxster\n",
      "67 66 Models | MACAN\n",
      "Four or six-cylinder turbocharged front engine\n",
      "All-wheel drive\n",
      "Porsche Doppelkupplung (PDK)\n",
      "Luggage compartment \n",
      "at the rear\n",
      "5 seats \n",
      "For efficiency class, fuel consumption and CO₂ emissions, please refer to page 86 onwards.\n",
      "108© Dr. Ing. h.c. F. Porsche AG, 2023 \n",
      "Any duplication, reproduction or other use without the \n",
      "prior written consent of Dr. Ing. h.c. F. Porsche AG is \n",
      "not permitted.\n",
      "Dr. Ing. h.c. F. Porsche AG supports the use of paper \n",
      "from sustainable forests. The paper for this catalogue \n",
      "is certified in accordance with the strict regulations of \n",
      "the FSC® (Forest Stewardship Council®). \n",
      "Porsche, the Porsche Crest, 911, Carrera, 718, Boxster, \n",
      "Cayman, Cayenne, Macan, Panamera, Taycan, PDK, \n",
      "PCM and other marks are registered trademarks of  \n",
      "Dr. Ing. h.c. F. Porsche AG.\n",
      "Dr. Ing. h.c. F. Porsche AG \n",
      "Porscheplatz 1 \n",
      "70435 Stuttgart \n",
      "Germany  \n",
      "www.porsche.com \n",
      "Valid from: 10/2022 \n",
      "Printed in Germany  \n",
      "WSLU23000220 EN/WWThe vehicle models featured in this publication present \n",
      "the equipment for Germany. They also contain, for \n",
      "example, individual equipment that is not part of the \n",
      "standard scope of delivery and is only available at extra \n",
      "cost. The availability of models and equipment may \n",
      "vary from one country to another due to local \n",
      "restrictions and regulations. For information on the \n",
      "precise equipment scope, please consult your Porsche \n",
      "Centre/dealer or your importer. All information \n",
      "regarding construction, features, design, performance, \n",
      "dimensions, weight, fuel consumption and running \n",
      "costs is correct to the best of our knowledge at the time \n",
      "of going to print (01/2023). Porsche reserves the right \n",
      "to alter design specifications, equipment and delivery \n",
      "scopes. Colours may differ from those illustrated. Errors \n",
      "and omissions excepted. For the disclaimer in every \n",
      "language, please refer to www.porsche.com/ disclaimerМоделите опишани во ова издание се одобрени за употреба на патишта во Германија. Некои ставки од опремата се достапни само како опции со дополнителен \n",
      "трошок. Достапноста на моделите и опциите може да се разликува во зависност од пазарот поради локалните ограничувања и прописи. За информации околу \n",
      "стандардната и изборната опрема, советувајте се со  Porsche центарот. Сите информации во врска со конструкцијата, функциите, дизајнот, перформансите, \n",
      "димензиите, тежината, потрошувачката на гориво и трошоците за одржување се точни според нашите најдобри сознанија во времето на печатењето (01/2023). \n",
      " Porsche го задржува правото да ги измени спецификациите, опремата и опсезите на испорака без претходно известување. Боите може да се разликуваат од \n",
      "тие на сликите. Грешките и пропустите се исклучени. За одрекувањето од одговорност на сите јазици, погледнете во www.porsche.com/disclaimer\n",
      "Modele przedstawione w niniejszej publikacji są zatwierdzone do użytku drogowego. Niektore elementy wyposażenia występują wyłącznie jako opcje oferowane za \n",
      "dopłatą. Ze względu na lokalne przepisy i ograniczenia dostępność poszczegolnych modeli i opcji może być rożna w zależności od konkretnego rynku.\n"
     ]
    }
   ],
   "source": [
    "for result in retrieval_results3:\n",
    "    print (result.text)"
   ]
  },
  {
   "cell_type": "code",
   "execution_count": 13,
   "id": "868c66b6-825b-43a1-95ba-95849782a239",
   "metadata": {},
   "outputs": [],
   "source": [
    "retrieval_results4 = retriever_engine.retrieve(\"Tell me more about the Porsche\")"
   ]
  },
  {
   "cell_type": "code",
   "execution_count": 17,
   "id": "572e4258",
   "metadata": {},
   "outputs": [
    {
     "name": "stdout",
     "output_type": "stream",
     "text": [
      "13 12 Models | 718\n",
      "Four-cylinder boxer engine with turbocharger\n",
      "Two luggage \n",
      "compartments\n",
      "Two seats\n",
      "Porsche Doppelkupplung (PDK) or manual transmission\n",
      "Mid-engine concept\n",
      "Six-cylinder boxer naturally aspirated engine on \n",
      "718 GTS 4.0 models\n",
      "Rear-wheel drive \n",
      "For efficiency class, fuel consumption and CO₂ emissions, please refer to page 86 onwards.\n",
      "Cayman\n",
      "Boxster\n",
      "79 Models | EXCLUSIVEMake your Porsche even more extraordinary with a craftsperson‘s finishing touches to bring individual flair. And implement special requests. In short: \n",
      "make it unique. That is our most important maxim. At Porsche Exclusive Manufaktur, we offer an almost unlimited selection of personalisation options. \n",
      "With visual and technical enhancements for the interior and exterior. From the smallest detail to extensive modifications, we make our customers‘ very \n",
      "personal dream sports car a reality. \n",
      "The 911 GT3 with Touring Package in Black. \n",
      "It‘s love at first sight with the tinted LED matrix headlights, wheels painted in Black (satin finish) \n",
      "and on the inside, Exclusive Manufaktur leather upholstery in two-tone black and lipstick red \n",
      "together with the extended interior package in matt carbon.The 718 Boxster  S in Racing Yellow. \n",
      "Turn heads with Racing Yellow, a colour that \n",
      "demands attention. Illuminated carbon door sill \n",
      "guards, or Racing Yellow dials on the instrument \n",
      "cluster make the inside of the vehicle stand out, too. The 911 Targa 4S with Heritage Design Package Pure in \n",
      "Gentian Blue Metallic. \n",
      "An ultra-modern car with historic details. The optional \n",
      "package takes selected interior items of the limited-edition \n",
      "911 Targa 4S Heritage Design Edition and makes a touch of \n",
      "Porsche Heritage Design accessible to all 911 enthusiasts. \n",
      "The focal points are seat centres and door mirrors in \n",
      "corduroy paired with exclusive details such as the \n",
      "‘PORSCHE Exclusive Manufaktur’ logo on the storage \n",
      "compartment lid, the Heritage Design instrument cluster \n",
      "and the silver-coloured ‘911’ badge on the dashboard trim. PORSCHE EXCLUSIVE MANUFAKTUR.\n",
      "Create. Personal. Style.\n",
      " \n",
      "For efficiency class, fuel consumption, CO₂ emissions, please refer to page 86 onwards.\n",
      "Perhaps the most perfect sports car of all, as our engineers like to say. Extremely sporty, \n",
      "at the same time comfortable and fully suitable for everyday use.THE SPEARHEAD OF OUR SKILL.\n",
      "911 TURBO\n",
      " \n",
      "For efficiency class, fuel consumption and CO₂ emissions, please refer to page 86 onwards.\n"
     ]
    }
   ],
   "source": [
    "for result in retrieval_results4:\n",
    "    print (result.text)"
   ]
  },
  {
   "cell_type": "markdown",
   "id": "b8407db6",
   "metadata": {},
   "source": [
    "## DONE!"
   ]
  },
  {
   "cell_type": "markdown",
   "id": "3c8f30fe-af5d-4af6-92eb-c955c8c6107f",
   "metadata": {},
   "source": [
    "##  *********In progress *************"
   ]
  }
 ],
 "metadata": {
  "kernelspec": {
   "display_name": "py311",
   "language": "python",
   "name": "py311"
  },
  "language_info": {
   "codemirror_mode": {
    "name": "ipython",
    "version": 3
   },
   "file_extension": ".py",
   "mimetype": "text/x-python",
   "name": "python",
   "nbconvert_exporter": "python",
   "pygments_lexer": "ipython3",
   "version": "3.11.10"
  }
 },
 "nbformat": 4,
 "nbformat_minor": 5
}
